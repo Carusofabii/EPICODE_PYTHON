{
 "cells": [
  {
   "cell_type": "code",
   "execution_count": 3,
   "id": "5f219ace",
   "metadata": {},
   "outputs": [],
   "source": [
    "import pandas as pd\n",
    "import numpy as np"
   ]
  },
  {
   "cell_type": "code",
   "execution_count": 4,
   "id": "504b64b9",
   "metadata": {},
   "outputs": [],
   "source": [
    "PrimoTrimestre = pd.read_csv(r'C:\\Users\\fabio\\OneDrive\\Desktop\\AgenziaDelleEntrate\\FileSuCuiLavorare\\Corrispettivi primo trimestre.csv',\n",
    "                             sep=';', encoding='latin1')"
   ]
  },
  {
   "cell_type": "code",
   "execution_count": 5,
   "id": "11287a61",
   "metadata": {},
   "outputs": [],
   "source": [
    "SecondoTrimestre = pd.read_csv(r'C:\\Users\\fabio\\OneDrive\\Desktop\\AgenziaDelleEntrate\\FileSuCuiLavorare\\Corrispettivi secondo trimestre.csv',\n",
    "                                sep=';', encoding='latin1')"
   ]
  },
  {
   "cell_type": "code",
   "execution_count": 6,
   "id": "10a28506",
   "metadata": {},
   "outputs": [],
   "source": [
    "Corrispettivi = pd.concat([PrimoTrimestre, SecondoTrimestre], ignore_index=True)"
   ]
  },
  {
   "cell_type": "code",
   "execution_count": 7,
   "id": "e0ad8600",
   "metadata": {},
   "outputs": [
    {
     "data": {
      "application/vnd.microsoft.datawrangler.viewer.v0+json": {
       "columns": [
        {
         "name": "index",
         "rawType": "int64",
         "type": "integer"
        },
        {
         "name": "Id invio",
         "rawType": "object",
         "type": "string"
        },
        {
         "name": "Matricola dispositivo",
         "rawType": "object",
         "type": "string"
        },
        {
         "name": "Data e ora rilevazione",
         "rawType": "object",
         "type": "string"
        },
        {
         "name": "Data e ora trasmissione",
         "rawType": "object",
         "type": "string"
        },
        {
         "name": "Ammontare delle vendite (totale in euro)",
         "rawType": "object",
         "type": "string"
        },
        {
         "name": "Imponibile vendite (totale in euro)",
         "rawType": "object",
         "type": "string"
        },
        {
         "name": "Imposta vendite (totale in euro)",
         "rawType": "object",
         "type": "string"
        },
        {
         "name": "Periodo di inattivita' da",
         "rawType": "object",
         "type": "unknown"
        },
        {
         "name": "Periodo di inattivita' a",
         "rawType": "object",
         "type": "unknown"
        }
       ],
       "ref": "f09fbba0-bffa-4a2c-975e-a8601654cf43",
       "rows": [
        [
         "0",
         "'2839397212'",
         "'96MFS011224'",
         "31/03/2025 18:15:24",
         "31/03/2025 18:15:42",
         "000000000405,73",
         "000000000405,73",
         "000000000040,57",
         null,
         null
        ],
        [
         "1",
         "'2839397311'",
         "'96MFS011224'",
         "31/03/2025 04:37:34",
         "31/03/2025 18:15:46",
         "000000000000,00",
         "000000000000,00",
         "000000000000,00",
         "30/03/2025 00:00:00",
         "30/03/2025 23:59:59"
        ],
        [
         "2",
         "'2836674162'",
         "'96MFS011224'",
         "29/03/2025 15:03:11",
         "29/03/2025 15:02:43",
         "000000000311,27",
         "000000000205,82",
         "000000000020,58",
         null,
         null
        ],
        [
         "3",
         "'2835230894'",
         "'96MFS011224'",
         "28/03/2025 18:29:52",
         "28/03/2025 18:29:24",
         "000000000429,36",
         "000000000429,36",
         "000000000042,94",
         null,
         null
        ],
        [
         "4",
         "'2833674013'",
         "'96MFS011224'",
         "27/03/2025 18:26:37",
         "27/03/2025 18:26:10",
         "000000000709,15",
         "000000000709,15",
         "000000000070,91",
         null,
         null
        ],
        [
         "5",
         "'2832074916'",
         "'96MFS011224'",
         "26/03/2025 18:18:07",
         "26/03/2025 18:17:42",
         "000000000558,18",
         "000000000519,09",
         "000000000051,91",
         null,
         null
        ],
        [
         "6",
         "'2830352569'",
         "'96MFS011224'",
         "25/03/2025 16:03:59",
         "25/03/2025 16:03:35",
         "000000000474,64",
         "000000000474,64",
         "000000000047,46",
         null,
         null
        ],
        [
         "7",
         "'2828977048'",
         "'96MFS011224'",
         "24/03/2025 18:47:49",
         "24/03/2025 18:47:25",
         "000000000468,64",
         "000000000468,64",
         "000000000046,86",
         null,
         null
        ],
        [
         "8",
         "'2828977256'",
         "'96MFS011224'",
         "24/03/2025 04:46:05",
         "24/03/2025 18:47:29",
         "000000000000,00",
         "000000000000,00",
         "000000000000,00",
         "23/03/2025 00:00:00",
         "23/03/2025 23:59:59"
        ],
        [
         "9",
         "'2826193768'",
         "'96MFS011224'",
         "22/03/2025 14:15:28",
         "22/03/2025 14:15:06",
         "000000000237,45",
         "000000000237,45",
         "000000000023,75",
         null,
         null
        ],
        [
         "10",
         "'2824779749'",
         "'96MFS011224'",
         "21/03/2025 18:32:38",
         "21/03/2025 18:32:17",
         "000000000653,27",
         "000000000653,27",
         "000000000065,33",
         null,
         null
        ],
        [
         "11",
         "'2823235561'",
         "'96MFS011224'",
         "20/03/2025 18:31:22",
         "20/03/2025 18:31:02",
         "000000000535,09",
         "000000000535,09",
         "000000000053,51",
         null,
         null
        ],
        [
         "12",
         "'2821668562'",
         "'96MFS011224'",
         "19/03/2025 18:40:25",
         "19/03/2025 18:40:06",
         "000000000538,55",
         "000000000538,55",
         "000000000053,85",
         null,
         null
        ],
        [
         "13",
         "'2820199927'",
         "'96MFS011224'",
         "18/03/2025 19:03:00",
         "18/03/2025 19:02:42",
         "000000000372,73",
         "000000000372,73",
         "000000000037,27",
         null,
         null
        ],
        [
         "14",
         "'2818461016'",
         "'96MFS011224'",
         "17/03/2025 18:21:17",
         "17/03/2025 18:20:59",
         "000000000331,73",
         "000000000331,73",
         "000000000033,17",
         null,
         null
        ],
        [
         "15",
         "'2818461150'",
         "'96MFS011224'",
         "17/03/2025 04:40:02",
         "17/03/2025 18:21:04",
         "000000000000,00",
         "000000000000,00",
         "000000000000,00",
         "16/03/2025 00:00:00",
         "16/03/2025 23:59:59"
        ],
        [
         "16",
         "'2815741998'",
         "'96MFS011224'",
         "15/03/2025 14:29:02",
         "15/03/2025 14:28:46",
         "000000000301,09",
         "000000000301,09",
         "000000000030,11",
         null,
         null
        ],
        [
         "17",
         "'2814301730'",
         "'96MFS011224'",
         "14/03/2025 18:14:07",
         "14/03/2025 18:13:53",
         "000000000472,73",
         "000000000472,73",
         "000000000047,27",
         null,
         null
        ],
        [
         "18",
         "'2812775124'",
         "'96MFS011224'",
         "13/03/2025 18:20:00",
         "13/03/2025 18:19:46",
         "000000000502,15",
         "000000000502,15",
         "000000000050,22",
         null,
         null
        ],
        [
         "19",
         "'2811279706'",
         "'96MFS011224'",
         "12/03/2025 18:48:56",
         "12/03/2025 18:48:43",
         "000000000473,00",
         "000000000473,00",
         "000000000047,30",
         null,
         null
        ],
        [
         "20",
         "'2809633306'",
         "'96MFS011224'",
         "11/03/2025 18:28:01",
         "11/03/2025 18:27:49",
         "000000000399,55",
         "000000000399,55",
         "000000000039,95",
         null,
         null
        ],
        [
         "21",
         "'2808058879'",
         "'96MFS011224'",
         "10/03/2025 18:29:03",
         "10/03/2025 18:28:53",
         "000000000611,36",
         "000000000611,36",
         "000000000061,14",
         null,
         null
        ],
        [
         "22",
         "'2808059041'",
         "'96MFS011224'",
         "10/03/2025 05:03:02",
         "10/03/2025 18:28:58",
         "000000000000,00",
         "000000000000,00",
         "000000000000,00",
         "09/03/2025 00:00:00",
         "09/03/2025 23:59:59"
        ],
        [
         "23",
         "'2805308810'",
         "'96MFS011224'",
         "08/03/2025 14:04:06",
         "08/03/2025 14:03:58",
         "000000000191,00",
         "000000000191,00",
         "000000000019,10",
         null,
         null
        ],
        [
         "24",
         "'2803861054'",
         "'96MFS011224'",
         "07/03/2025 18:11:07",
         "07/03/2025 18:10:59",
         "000000000362,64",
         "000000000362,64",
         "000000000036,26",
         null,
         null
        ],
        [
         "25",
         "'2802328792'",
         "'96MFS011224'",
         "06/03/2025 18:14:17",
         "06/03/2025 18:14:10",
         "000000000474,00",
         "000000000474,00",
         "000000000047,40",
         null,
         null
        ],
        [
         "26",
         "'2800782997'",
         "'96MFS011224'",
         "05/03/2025 18:30:05",
         "05/03/2025 18:29:59",
         "000000000541,00",
         "000000000541,00",
         "000000000054,10",
         null,
         null
        ],
        [
         "27",
         "'2799204504'",
         "'96MFS011224'",
         "04/03/2025 18:11:07",
         "04/03/2025 18:11:02",
         "000000000391,09",
         "000000000391,09",
         "000000000039,11",
         null,
         null
        ],
        [
         "28",
         "'2797603031'",
         "'96MFS011224'",
         "03/03/2025 18:07:19",
         "03/03/2025 18:07:15",
         "000000000417,27",
         "000000000417,27",
         "000000000041,73",
         null,
         null
        ],
        [
         "29",
         "'2797603148'",
         "'96MFS011224'",
         "03/03/2025 05:01:44",
         "03/03/2025 18:07:19",
         "000000000000,00",
         "000000000000,00",
         "000000000000,00",
         "02/03/2025 00:00:00",
         "02/03/2025 23:59:59"
        ],
        [
         "30",
         "'2794926387'",
         "'96MFS011224'",
         "01/03/2025 14:24:39",
         "01/03/2025 14:24:37",
         "000000000120,27",
         "000000000120,27",
         "000000000012,03",
         null,
         null
        ],
        [
         "31",
         "'2793526960'",
         "'96MFS011224'",
         "28/02/2025 18:38:49",
         "28/02/2025 18:38:47",
         "000000000597,82",
         "000000000597,82",
         "000000000059,78",
         null,
         null
        ],
        [
         "32",
         "'2791917391'",
         "'96MFS011224'",
         "27/02/2025 18:13:11",
         "27/02/2025 18:13:12",
         "000000000427,00",
         "000000000427,00",
         "000000000042,70",
         null,
         null
        ],
        [
         "33",
         "'2790356272'",
         "'96MFS011224'",
         "26/02/2025 18:16:41",
         "26/02/2025 18:16:41",
         "000000000519,73",
         "000000000488,64",
         "000000000048,86",
         null,
         null
        ],
        [
         "34",
         "'2788831891'",
         "'96MFS011224'",
         "25/02/2025 18:33:08",
         "25/02/2025 18:33:09",
         "000000000543,45",
         "000000000543,45",
         "000000000054,35",
         null,
         null
        ],
        [
         "35",
         "'2787234666'",
         "'96MFS011224'",
         "24/02/2025 18:18:22",
         "24/02/2025 18:18:26",
         "000000000402,89",
         "000000000402,89",
         "000000000040,29",
         null,
         null
        ],
        [
         "36",
         "'2786383075'",
         "'96MFS011224'",
         "24/02/2025 05:25:35",
         "24/02/2025 05:25:37",
         "000000000000,00",
         "000000000000,00",
         "000000000000,00",
         null,
         null
        ],
        [
         "37",
         "'2786383109'",
         "'96MFS011224'",
         "24/02/2025 04:49:08",
         "24/02/2025 05:25:41",
         "000000000000,00",
         "000000000000,00",
         "000000000000,00",
         "23/02/2025 00:00:00",
         "23/02/2025 23:59:59"
        ],
        [
         "38",
         "'2784549720'",
         "'96MFS011224'",
         "22/02/2025 13:58:50",
         "22/02/2025 13:58:54",
         "000000000117,91",
         "000000000117,91",
         "000000000011,79",
         null,
         null
        ],
        [
         "39",
         "'2783149767'",
         "'96MFS011224'",
         "21/02/2025 18:26:57",
         "21/02/2025 18:27:02",
         "000000000510,82",
         "000000000510,82",
         "000000000051,08",
         null,
         null
        ],
        [
         "40",
         "'2781678817'",
         "'96MFS011224'",
         "20/02/2025 18:44:44",
         "20/02/2025 18:44:50",
         "000000000405,00",
         "000000000405,00",
         "000000000040,50",
         null,
         null
        ],
        [
         "41",
         "'2780055713'",
         "'96MFS011224'",
         "19/02/2025 18:19:15",
         "19/02/2025 18:19:24",
         "000000000375,20",
         "000000000375,20",
         "000000000037,52",
         null,
         null
        ],
        [
         "42",
         "'2778482594'",
         "'96MFS011224'",
         "18/02/2025 18:28:47",
         "18/02/2025 18:28:54",
         "000000000619,00",
         "000000000619,00",
         "000000000061,90",
         null,
         null
        ],
        [
         "43",
         "'2776909550'",
         "'96MFS011224'",
         "17/02/2025 18:18:14",
         "17/02/2025 18:18:24",
         "000000000435,18",
         "000000000435,18",
         "000000000043,52",
         null,
         null
        ],
        [
         "44",
         "'2776909665'",
         "'96MFS011224'",
         "17/02/2025 04:43:12",
         "17/02/2025 18:18:29",
         "000000000000,00",
         "000000000000,00",
         "000000000000,00",
         "16/02/2025 00:00:00",
         "16/02/2025 23:59:59"
        ],
        [
         "45",
         "'2774214011'",
         "'96MFS011224'",
         "15/02/2025 13:51:13",
         "15/02/2025 13:51:25",
         "000000000064,18",
         "000000000064,18",
         "000000000006,42",
         null,
         null
        ],
        [
         "46",
         "'2772823757'",
         "'96MFS011224'",
         "14/02/2025 18:24:42",
         "14/02/2025 18:24:53",
         "000000000466,36",
         "000000000466,36",
         "000000000046,64",
         null,
         null
        ],
        [
         "47",
         "'2771330898'",
         "'96MFS011224'",
         "13/02/2025 18:34:31",
         "13/02/2025 18:34:43",
         "000000000368,18",
         "000000000368,18",
         "000000000036,82",
         null,
         null
        ],
        [
         "48",
         "'2769726481'",
         "'96MFS011224'",
         "12/02/2025 18:16:52",
         "12/02/2025 18:17:06",
         "000000000484,64",
         "000000000484,64",
         "000000000048,46",
         null,
         null
        ],
        [
         "49",
         "'2768177865'",
         "'96MFS011224'",
         "11/02/2025 18:19:46",
         "11/02/2025 18:20:01",
         "000000000357,73",
         "000000000357,73",
         "000000000035,77",
         null,
         null
        ]
       ],
       "shape": {
        "columns": 9,
        "rows": 169
       }
      },
      "text/html": [
       "<div>\n",
       "<style scoped>\n",
       "    .dataframe tbody tr th:only-of-type {\n",
       "        vertical-align: middle;\n",
       "    }\n",
       "\n",
       "    .dataframe tbody tr th {\n",
       "        vertical-align: top;\n",
       "    }\n",
       "\n",
       "    .dataframe thead th {\n",
       "        text-align: right;\n",
       "    }\n",
       "</style>\n",
       "<table border=\"1\" class=\"dataframe\">\n",
       "  <thead>\n",
       "    <tr style=\"text-align: right;\">\n",
       "      <th></th>\n",
       "      <th>Id invio</th>\n",
       "      <th>Matricola dispositivo</th>\n",
       "      <th>Data e ora rilevazione</th>\n",
       "      <th>Data e ora trasmissione</th>\n",
       "      <th>Ammontare delle vendite (totale in euro)</th>\n",
       "      <th>Imponibile vendite (totale in euro)</th>\n",
       "      <th>Imposta vendite (totale in euro)</th>\n",
       "      <th>Periodo di inattivita' da</th>\n",
       "      <th>Periodo di inattivita' a</th>\n",
       "    </tr>\n",
       "  </thead>\n",
       "  <tbody>\n",
       "    <tr>\n",
       "      <th>0</th>\n",
       "      <td>'2839397212'</td>\n",
       "      <td>'96MFS011224'</td>\n",
       "      <td>31/03/2025 18:15:24</td>\n",
       "      <td>31/03/2025 18:15:42</td>\n",
       "      <td>000000000405,73</td>\n",
       "      <td>000000000405,73</td>\n",
       "      <td>000000000040,57</td>\n",
       "      <td>NaN</td>\n",
       "      <td>NaN</td>\n",
       "    </tr>\n",
       "    <tr>\n",
       "      <th>1</th>\n",
       "      <td>'2839397311'</td>\n",
       "      <td>'96MFS011224'</td>\n",
       "      <td>31/03/2025 04:37:34</td>\n",
       "      <td>31/03/2025 18:15:46</td>\n",
       "      <td>000000000000,00</td>\n",
       "      <td>000000000000,00</td>\n",
       "      <td>000000000000,00</td>\n",
       "      <td>30/03/2025 00:00:00</td>\n",
       "      <td>30/03/2025 23:59:59</td>\n",
       "    </tr>\n",
       "    <tr>\n",
       "      <th>2</th>\n",
       "      <td>'2836674162'</td>\n",
       "      <td>'96MFS011224'</td>\n",
       "      <td>29/03/2025 15:03:11</td>\n",
       "      <td>29/03/2025 15:02:43</td>\n",
       "      <td>000000000311,27</td>\n",
       "      <td>000000000205,82</td>\n",
       "      <td>000000000020,58</td>\n",
       "      <td>NaN</td>\n",
       "      <td>NaN</td>\n",
       "    </tr>\n",
       "    <tr>\n",
       "      <th>3</th>\n",
       "      <td>'2835230894'</td>\n",
       "      <td>'96MFS011224'</td>\n",
       "      <td>28/03/2025 18:29:52</td>\n",
       "      <td>28/03/2025 18:29:24</td>\n",
       "      <td>000000000429,36</td>\n",
       "      <td>000000000429,36</td>\n",
       "      <td>000000000042,94</td>\n",
       "      <td>NaN</td>\n",
       "      <td>NaN</td>\n",
       "    </tr>\n",
       "    <tr>\n",
       "      <th>4</th>\n",
       "      <td>'2833674013'</td>\n",
       "      <td>'96MFS011224'</td>\n",
       "      <td>27/03/2025 18:26:37</td>\n",
       "      <td>27/03/2025 18:26:10</td>\n",
       "      <td>000000000709,15</td>\n",
       "      <td>000000000709,15</td>\n",
       "      <td>000000000070,91</td>\n",
       "      <td>NaN</td>\n",
       "      <td>NaN</td>\n",
       "    </tr>\n",
       "    <tr>\n",
       "      <th>...</th>\n",
       "      <td>...</td>\n",
       "      <td>...</td>\n",
       "      <td>...</td>\n",
       "      <td>...</td>\n",
       "      <td>...</td>\n",
       "      <td>...</td>\n",
       "      <td>...</td>\n",
       "      <td>...</td>\n",
       "      <td>...</td>\n",
       "    </tr>\n",
       "    <tr>\n",
       "      <th>164</th>\n",
       "      <td>'2847212454'</td>\n",
       "      <td>'96MFS011224'</td>\n",
       "      <td>05/04/2025 14:35:15</td>\n",
       "      <td>05/04/2025 14:35:31</td>\n",
       "      <td>000000000384,27</td>\n",
       "      <td>000000000384,27</td>\n",
       "      <td>000000000038,43</td>\n",
       "      <td>NaN</td>\n",
       "      <td>NaN</td>\n",
       "    </tr>\n",
       "    <tr>\n",
       "      <th>165</th>\n",
       "      <td>'2845744246'</td>\n",
       "      <td>'96MFS011224'</td>\n",
       "      <td>04/04/2025 18:23:07</td>\n",
       "      <td>04/04/2025 18:23:22</td>\n",
       "      <td>000000000659,82</td>\n",
       "      <td>000000000659,82</td>\n",
       "      <td>000000000065,98</td>\n",
       "      <td>NaN</td>\n",
       "      <td>NaN</td>\n",
       "    </tr>\n",
       "    <tr>\n",
       "      <th>166</th>\n",
       "      <td>'2844233901'</td>\n",
       "      <td>'96MFS011224'</td>\n",
       "      <td>03/04/2025 18:42:14</td>\n",
       "      <td>03/04/2025 18:42:29</td>\n",
       "      <td>000000000551,45</td>\n",
       "      <td>000000000551,45</td>\n",
       "      <td>000000000055,15</td>\n",
       "      <td>NaN</td>\n",
       "      <td>NaN</td>\n",
       "    </tr>\n",
       "    <tr>\n",
       "      <th>167</th>\n",
       "      <td>'2842627354'</td>\n",
       "      <td>'96MFS011224'</td>\n",
       "      <td>02/04/2025 18:35:01</td>\n",
       "      <td>02/04/2025 18:35:17</td>\n",
       "      <td>000000000466,73</td>\n",
       "      <td>000000000466,73</td>\n",
       "      <td>000000000046,67</td>\n",
       "      <td>NaN</td>\n",
       "      <td>NaN</td>\n",
       "    </tr>\n",
       "    <tr>\n",
       "      <th>168</th>\n",
       "      <td>'2841035164'</td>\n",
       "      <td>'96MFS011224'</td>\n",
       "      <td>01/04/2025 18:35:06</td>\n",
       "      <td>01/04/2025 18:35:24</td>\n",
       "      <td>000000000336,09</td>\n",
       "      <td>000000000336,09</td>\n",
       "      <td>000000000033,61</td>\n",
       "      <td>NaN</td>\n",
       "      <td>NaN</td>\n",
       "    </tr>\n",
       "  </tbody>\n",
       "</table>\n",
       "<p>169 rows × 9 columns</p>\n",
       "</div>"
      ],
      "text/plain": [
       "         Id invio Matricola dispositivo Data e ora rilevazione  \\\n",
       "0    '2839397212'         '96MFS011224'    31/03/2025 18:15:24   \n",
       "1    '2839397311'         '96MFS011224'    31/03/2025 04:37:34   \n",
       "2    '2836674162'         '96MFS011224'    29/03/2025 15:03:11   \n",
       "3    '2835230894'         '96MFS011224'    28/03/2025 18:29:52   \n",
       "4    '2833674013'         '96MFS011224'    27/03/2025 18:26:37   \n",
       "..            ...                   ...                    ...   \n",
       "164  '2847212454'         '96MFS011224'    05/04/2025 14:35:15   \n",
       "165  '2845744246'         '96MFS011224'    04/04/2025 18:23:07   \n",
       "166  '2844233901'         '96MFS011224'    03/04/2025 18:42:14   \n",
       "167  '2842627354'         '96MFS011224'    02/04/2025 18:35:01   \n",
       "168  '2841035164'         '96MFS011224'    01/04/2025 18:35:06   \n",
       "\n",
       "    Data e ora trasmissione Ammontare delle vendite (totale in euro)  \\\n",
       "0       31/03/2025 18:15:42                          000000000405,73   \n",
       "1       31/03/2025 18:15:46                          000000000000,00   \n",
       "2       29/03/2025 15:02:43                          000000000311,27   \n",
       "3       28/03/2025 18:29:24                          000000000429,36   \n",
       "4       27/03/2025 18:26:10                          000000000709,15   \n",
       "..                      ...                                      ...   \n",
       "164     05/04/2025 14:35:31                          000000000384,27   \n",
       "165     04/04/2025 18:23:22                          000000000659,82   \n",
       "166     03/04/2025 18:42:29                          000000000551,45   \n",
       "167     02/04/2025 18:35:17                          000000000466,73   \n",
       "168     01/04/2025 18:35:24                          000000000336,09   \n",
       "\n",
       "    Imponibile vendite (totale in euro) Imposta vendite (totale in euro)  \\\n",
       "0                       000000000405,73                  000000000040,57   \n",
       "1                       000000000000,00                  000000000000,00   \n",
       "2                       000000000205,82                  000000000020,58   \n",
       "3                       000000000429,36                  000000000042,94   \n",
       "4                       000000000709,15                  000000000070,91   \n",
       "..                                  ...                              ...   \n",
       "164                     000000000384,27                  000000000038,43   \n",
       "165                     000000000659,82                  000000000065,98   \n",
       "166                     000000000551,45                  000000000055,15   \n",
       "167                     000000000466,73                  000000000046,67   \n",
       "168                     000000000336,09                  000000000033,61   \n",
       "\n",
       "    Periodo di inattivita' da Periodo di inattivita' a  \n",
       "0                         NaN                      NaN  \n",
       "1         30/03/2025 00:00:00      30/03/2025 23:59:59  \n",
       "2                         NaN                      NaN  \n",
       "3                         NaN                      NaN  \n",
       "4                         NaN                      NaN  \n",
       "..                        ...                      ...  \n",
       "164                       NaN                      NaN  \n",
       "165                       NaN                      NaN  \n",
       "166                       NaN                      NaN  \n",
       "167                       NaN                      NaN  \n",
       "168                       NaN                      NaN  \n",
       "\n",
       "[169 rows x 9 columns]"
      ]
     },
     "execution_count": 7,
     "metadata": {},
     "output_type": "execute_result"
    }
   ],
   "source": [
    "Corrispettivi"
   ]
  },
  {
   "cell_type": "code",
   "execution_count": 8,
   "id": "edb344d2",
   "metadata": {},
   "outputs": [],
   "source": [
    "Corrispettivi = Corrispettivi.loc[:, ['Data e ora rilevazione','Ammontare delle vendite (totale in euro)','Imposta vendite (totale in euro)']]"
   ]
  },
  {
   "cell_type": "code",
   "execution_count": 9,
   "id": "f83ecad3",
   "metadata": {},
   "outputs": [],
   "source": [
    "Corrispettivi['Ammontare delle vendite (totale in euro)'] = Corrispettivi['Ammontare delle vendite (totale in euro)'].str.replace(',', '.', regex=True)\n",
    "Corrispettivi['Imposta vendite (totale in euro)'] = Corrispettivi['Imposta vendite (totale in euro)'].str.replace(',', '.', regex=True)"
   ]
  },
  {
   "cell_type": "code",
   "execution_count": 10,
   "id": "bb297252",
   "metadata": {},
   "outputs": [],
   "source": [
    "Corrispettivi['Ammontare delle vendite (totale in euro)']= pd.to_numeric(Corrispettivi['Ammontare delle vendite (totale in euro)'], errors='coerce')\n",
    "Corrispettivi['Imposta vendite (totale in euro)']= pd.to_numeric(Corrispettivi['Imposta vendite (totale in euro)'], errors='coerce')"
   ]
  },
  {
   "cell_type": "code",
   "execution_count": 11,
   "id": "cbfa8be9",
   "metadata": {},
   "outputs": [],
   "source": [
    "Corrispettivi['Data e ora rilevazione'] = pd.to_datetime(Corrispettivi['Data e ora rilevazione'], dayfirst=True).dt.normalize()\n",
    "Corrispettivi = Corrispettivi.sort_values('Data e ora rilevazione')"
   ]
  },
  {
   "cell_type": "code",
   "execution_count": 12,
   "id": "1d331b3a",
   "metadata": {},
   "outputs": [],
   "source": [
    "Corrispettivi = Corrispettivi[Corrispettivi['Ammontare delle vendite (totale in euro)'] != 0]"
   ]
  },
  {
   "cell_type": "code",
   "execution_count": 13,
   "id": "427f0647",
   "metadata": {},
   "outputs": [],
   "source": [
    "Corrispettivi['ImportoTotaleCorrispettivi'] = Corrispettivi['Ammontare delle vendite (totale in euro)'] + Corrispettivi['Imposta vendite (totale in euro)']"
   ]
  },
  {
   "cell_type": "code",
   "execution_count": 14,
   "id": "f44e85f9",
   "metadata": {},
   "outputs": [],
   "source": [
    "Corrispettivi['ImportoTotaleCorrispettivi'] = Corrispettivi['ImportoTotaleCorrispettivi'].round(2)"
   ]
  },
  {
   "cell_type": "code",
   "execution_count": 15,
   "id": "66446c11",
   "metadata": {},
   "outputs": [],
   "source": [
    "Corrispettivi['Data'] = Corrispettivi['Data e ora rilevazione']"
   ]
  },
  {
   "cell_type": "code",
   "execution_count": 16,
   "id": "5a671853",
   "metadata": {},
   "outputs": [],
   "source": [
    "Corrispettivi = Corrispettivi.loc[:,['Data','ImportoTotaleCorrispettivi']]"
   ]
  },
  {
   "cell_type": "code",
   "execution_count": 17,
   "id": "3eb4d5f9",
   "metadata": {},
   "outputs": [],
   "source": [
    "Corrispettivi.to_csv('Corrispettivi.csv')"
   ]
  },
  {
   "cell_type": "code",
   "execution_count": 18,
   "id": "08210c1e",
   "metadata": {},
   "outputs": [],
   "source": [
    "PrimoTrimestre = pd.read_csv(r'C:\\Users\\fabio\\OneDrive\\Desktop\\AgenziaDelleEntrate\\FileSuCuiLavorare\\Fatture emesse primo trimestre.csv', sep=';', encoding='latin1')"
   ]
  },
  {
   "cell_type": "code",
   "execution_count": 19,
   "id": "91fa2ea2",
   "metadata": {},
   "outputs": [],
   "source": [
    "SecondoTrimestre = pd.read_csv(r'C:\\Users\\fabio\\OneDrive\\Desktop\\AgenziaDelleEntrate\\FileSuCuiLavorare\\Fatture emesse secondo trimestre.csv', sep=';', encoding='latin1')"
   ]
  },
  {
   "cell_type": "code",
   "execution_count": 20,
   "id": "3f4e6970",
   "metadata": {},
   "outputs": [],
   "source": [
    "Emesse = pd.concat([PrimoTrimestre, SecondoTrimestre], ignore_index=True)"
   ]
  },
  {
   "cell_type": "code",
   "execution_count": 21,
   "id": "e1a625fa",
   "metadata": {},
   "outputs": [],
   "source": [
    "Emesse = Emesse.loc[:,['Data emissione','Denominazione fornitore','Denominazione cliente','Imponibile/Importo (totale in euro)',\n",
    "       'Imposta (totale in euro)']]\n"
   ]
  },
  {
   "cell_type": "code",
   "execution_count": 22,
   "id": "2a7404c6",
   "metadata": {},
   "outputs": [],
   "source": [
    "Emesse['Data emissione'] = pd.to_datetime(Emesse['Data emissione'], dayfirst=True).dt.normalize()"
   ]
  },
  {
   "cell_type": "code",
   "execution_count": 23,
   "id": "fb914578",
   "metadata": {},
   "outputs": [],
   "source": [
    "Emesse.sort_values('Data emissione', inplace=True)  "
   ]
  },
  {
   "cell_type": "code",
   "execution_count": 24,
   "id": "730de916",
   "metadata": {},
   "outputs": [],
   "source": [
    "Emesse['Imponibile/Importo (totale in euro)'] = Emesse['Imponibile/Importo (totale in euro)'].str.replace(',', '.', regex=True)\n",
    "Emesse['Imposta (totale in euro)'] = Emesse['Imposta (totale in euro)'].str.replace(',', '.', regex=True)"
   ]
  },
  {
   "cell_type": "code",
   "execution_count": 25,
   "id": "4d60b1e9",
   "metadata": {},
   "outputs": [],
   "source": [
    "Emesse['Imponibile/Importo (totale in euro)'] = pd.to_numeric(Emesse['Imponibile/Importo (totale in euro)'], errors='coerce')\n",
    "Emesse['Imposta (totale in euro)'] = pd.to_numeric(Emesse['Imposta (totale in euro)'], errors='coerce')"
   ]
  },
  {
   "cell_type": "code",
   "execution_count": 26,
   "id": "421fe55a",
   "metadata": {},
   "outputs": [],
   "source": [
    "Emesse['Bar'] = Emesse['Denominazione fornitore']\n",
    "Emesse['Cliente'] = Emesse['Denominazione cliente']"
   ]
  },
  {
   "cell_type": "code",
   "execution_count": 29,
   "id": "86fc0a51",
   "metadata": {},
   "outputs": [
    {
     "data": {
      "application/vnd.microsoft.datawrangler.viewer.v0+json": {
       "columns": [
        {
         "name": "index",
         "rawType": "int64",
         "type": "integer"
        },
        {
         "name": "Data emissione",
         "rawType": "datetime64[ns]",
         "type": "datetime"
        },
        {
         "name": "Denominazione fornitore",
         "rawType": "object",
         "type": "string"
        },
        {
         "name": "Denominazione cliente",
         "rawType": "object",
         "type": "string"
        },
        {
         "name": "Imponibile/Importo (totale in euro)",
         "rawType": "float64",
         "type": "float"
        },
        {
         "name": "Imposta (totale in euro)",
         "rawType": "float64",
         "type": "float"
        },
        {
         "name": "Bar",
         "rawType": "object",
         "type": "string"
        },
        {
         "name": "Cliente",
         "rawType": "object",
         "type": "string"
        }
       ],
       "ref": "24f39714-8158-44ec-bd8c-180fd99087c1",
       "rows": [
        [
         "105",
         "2025-01-07 00:00:00",
         "BAR TORINO DI CARUSO PAOLO",
         "SEMEC SRL",
         "38.64",
         "3.86",
         "'BAR TORINO DI CARUSO PAOLO'",
         "'SEMEC SRL'"
        ],
        [
         "104",
         "2025-01-07 00:00:00",
         "BAR TORINO DI CARUSO PAOLO",
         "ASSO AGRICOLTURA SRLS SOC.AGRICOLA",
         "9.09",
         "0.91",
         "'BAR TORINO DI CARUSO PAOLO'",
         "'ASSO AGRICOLTURA SRLS SOC.AGRICOLA'"
        ],
        [
         "103",
         "2025-01-08 00:00:00",
         "BAR TORINO DI CARUSO PAOLO",
         "SEMEC SRL",
         "40.0",
         "4.0",
         "'BAR TORINO DI CARUSO PAOLO'",
         "'SEMEC SRL'"
        ],
        [
         "102",
         "2025-01-09 00:00:00",
         "BAR TORINO DI CARUSO PAOLO",
         "SEMEC SRL",
         "25.45",
         "2.55",
         "'BAR TORINO DI CARUSO PAOLO'",
         "'SEMEC SRL'"
        ],
        [
         "99",
         "2025-01-10 00:00:00",
         "BAR TORINO DI CARUSO PAOLO",
         "SEMEC SRL",
         "40.0",
         "4.0",
         "'BAR TORINO DI CARUSO PAOLO'",
         "'SEMEC SRL'"
        ],
        [
         "101",
         "2025-01-10 00:00:00",
         "BAR TORINO DI CARUSO PAOLO",
         "CESTARO ROSSI  C.-S.P.A.",
         "65.91",
         "6.59",
         "'BAR TORINO DI CARUSO PAOLO'",
         "'CESTARO ROSSI  C.-S.P.A.'"
        ],
        [
         "100",
         "2025-01-10 00:00:00",
         "BAR TORINO DI CARUSO PAOLO",
         "AXIAL FANS INT SRL",
         "90.18",
         "9.02",
         "'BAR TORINO DI CARUSO PAOLO'",
         "'AXIAL FANS INT SRL'"
        ],
        [
         "98",
         "2025-01-14 00:00:00",
         "BAR TORINO DI CARUSO PAOLO",
         "SEMEC SRL",
         "75.91",
         "7.59",
         "'BAR TORINO DI CARUSO PAOLO'",
         "'SEMEC SRL'"
        ],
        [
         "97",
         "2025-01-14 00:00:00",
         "BAR TORINO DI CARUSO PAOLO",
         "EVAGRIN SRL",
         "7.73",
         "0.77",
         "'BAR TORINO DI CARUSO PAOLO'",
         "'EVAGRIN SRL'"
        ],
        [
         "96",
         "2025-01-14 00:00:00",
         "BAR TORINO DI CARUSO PAOLO",
         "RCN ITALIA DI ACCIARO M. LUCIA",
         "18.18",
         "1.82",
         "'BAR TORINO DI CARUSO PAOLO'",
         "'RCN ITALIA DI ACCIARO M. LUCIA'"
        ],
        [
         "95",
         "2025-01-15 00:00:00",
         "BAR TORINO DI CARUSO PAOLO",
         "ECOTEK AMBIENTE SRL",
         "54.55",
         "5.45",
         "'BAR TORINO DI CARUSO PAOLO'",
         "'ECOTEK AMBIENTE SRL'"
        ],
        [
         "94",
         "2025-01-15 00:00:00",
         "BAR TORINO DI CARUSO PAOLO",
         "SEMEC SRL",
         "61.82",
         "6.18",
         "'BAR TORINO DI CARUSO PAOLO'",
         "'SEMEC SRL'"
        ],
        [
         "93",
         "2025-01-15 00:00:00",
         "BAR TORINO DI CARUSO PAOLO",
         "IMPRESA EDILE",
         "15.91",
         "1.59",
         "'BAR TORINO DI CARUSO PAOLO'",
         "'IMPRESA EDILE'"
        ],
        [
         "92",
         "2025-01-16 00:00:00",
         "BAR TORINO DI CARUSO PAOLO",
         "SEMEC SRL",
         "37.27",
         "3.73",
         "'BAR TORINO DI CARUSO PAOLO'",
         "'SEMEC SRL'"
        ],
        [
         "91",
         "2025-01-17 00:00:00",
         "BAR TORINO DI CARUSO PAOLO",
         "AXIAL FANS INT SRL",
         "64.55",
         "6.45",
         "'BAR TORINO DI CARUSO PAOLO'",
         "'AXIAL FANS INT SRL'"
        ],
        [
         "90",
         "2025-01-20 00:00:00",
         "BAR TORINO DI CARUSO PAOLO",
         "SEMEC SRL",
         "45.45",
         "4.55",
         "'BAR TORINO DI CARUSO PAOLO'",
         "'SEMEC SRL'"
        ],
        [
         "89",
         "2025-01-21 00:00:00",
         "BAR TORINO DI CARUSO PAOLO",
         "D.B. CONTROL SNC",
         "19.09",
         "1.91",
         "'BAR TORINO DI CARUSO PAOLO'",
         "'D.B. CONTROL SNC'"
        ],
        [
         "88",
         "2025-01-21 00:00:00",
         "BAR TORINO DI CARUSO PAOLO",
         "SEMEC SRL",
         "50.0",
         "5.0",
         "'BAR TORINO DI CARUSO PAOLO'",
         "'SEMEC SRL'"
        ],
        [
         "87",
         "2025-01-22 00:00:00",
         "BAR TORINO DI CARUSO PAOLO",
         "SEMEC SRL",
         "50.0",
         "5.0",
         "'BAR TORINO DI CARUSO PAOLO'",
         "'SEMEC SRL'"
        ],
        [
         "86",
         "2025-01-23 00:00:00",
         "BAR TORINO DI CARUSO PAOLO",
         "SEMEC SRL",
         "47.73",
         "4.77",
         "'BAR TORINO DI CARUSO PAOLO'",
         "'SEMEC SRL'"
        ],
        [
         "85",
         "2025-01-24 00:00:00",
         "BAR TORINO DI CARUSO PAOLO",
         "BETA LAB S.R.L.",
         "62.73",
         "6.27",
         "'BAR TORINO DI CARUSO PAOLO'",
         "'BETA LAB S.R.L.'"
        ],
        [
         "84",
         "2025-01-24 00:00:00",
         "BAR TORINO DI CARUSO PAOLO",
         "SEMEC SRL",
         "50.91",
         "5.09",
         "'BAR TORINO DI CARUSO PAOLO'",
         "'SEMEC SRL'"
        ],
        [
         "83",
         "2025-01-24 00:00:00",
         "BAR TORINO DI CARUSO PAOLO",
         "AXIAL FANS INT SRL",
         "72.73",
         "7.27",
         "'BAR TORINO DI CARUSO PAOLO'",
         "'AXIAL FANS INT SRL'"
        ],
        [
         "82",
         "2025-01-27 00:00:00",
         "BAR TORINO DI CARUSO PAOLO",
         "SEMEC SRL",
         "43.64",
         "4.36",
         "'BAR TORINO DI CARUSO PAOLO'",
         "'SEMEC SRL'"
        ],
        [
         "81",
         "2025-01-28 00:00:00",
         "BAR TORINO DI CARUSO PAOLO",
         "SEMEC SRL",
         "52.73",
         "5.27",
         "'BAR TORINO DI CARUSO PAOLO'",
         "'SEMEC SRL'"
        ],
        [
         "80",
         "2025-01-28 00:00:00",
         "BAR TORINO DI CARUSO PAOLO",
         "DEMICED SRL",
         "9.55",
         "0.95",
         "'BAR TORINO DI CARUSO PAOLO'",
         "'DEMICED SRL'"
        ],
        [
         "79",
         "2025-01-29 00:00:00",
         "BAR TORINO DI CARUSO PAOLO",
         "SEMEC SRL",
         "65.91",
         "6.59",
         "'BAR TORINO DI CARUSO PAOLO'",
         "'SEMEC SRL'"
        ],
        [
         "78",
         "2025-01-29 00:00:00",
         "BAR TORINO DI CARUSO PAOLO",
         "In Situ s.r.l",
         "19.09",
         "1.91",
         "'BAR TORINO DI CARUSO PAOLO'",
         "'In Situ s.r.l'"
        ],
        [
         "77",
         "2025-01-30 00:00:00",
         "BAR TORINO DI CARUSO PAOLO",
         "AXIAL FANS INT SRL",
         "68.18",
         "6.82",
         "'BAR TORINO DI CARUSO PAOLO'",
         "'AXIAL FANS INT SRL'"
        ],
        [
         "76",
         "2025-01-30 00:00:00",
         "BAR TORINO DI CARUSO PAOLO",
         "SEMEC SRL",
         "75.45",
         "7.55",
         "'BAR TORINO DI CARUSO PAOLO'",
         "'SEMEC SRL'"
        ],
        [
         "75",
         "2025-01-31 00:00:00",
         "BAR TORINO DI CARUSO PAOLO",
         "SEMEC SRL",
         "108.18",
         "10.82",
         "'BAR TORINO DI CARUSO PAOLO'",
         "'SEMEC SRL'"
        ],
        [
         "74",
         "2025-01-31 00:00:00",
         "BAR TORINO DI CARUSO PAOLO",
         "GERRATANA SALVATORE",
         "50.45",
         "5.05",
         "'BAR TORINO DI CARUSO PAOLO'",
         "'GERRATANA SALVATORE'"
        ],
        [
         "73",
         "2025-02-01 00:00:00",
         "BAR TORINO DI CARUSO PAOLO",
         "ENTUSA SRL",
         "62.73",
         "6.27",
         "'BAR TORINO DI CARUSO PAOLO'",
         "'ENTUSA SRL'"
        ],
        [
         "72",
         "2025-02-04 00:00:00",
         "BAR TORINO DI CARUSO PAOLO",
         "SEMEC SRL",
         "50.0",
         "5.0",
         "'BAR TORINO DI CARUSO PAOLO'",
         "'SEMEC SRL'"
        ],
        [
         "71",
         "2025-02-05 00:00:00",
         "BAR TORINO DI CARUSO PAOLO",
         "Mooney Servizi S.p.A.",
         "0.28",
         "0.06",
         "'BAR TORINO DI CARUSO PAOLO'",
         "'Mooney Servizi S.p.A.'"
        ],
        [
         "70",
         "2025-02-05 00:00:00",
         "BAR TORINO DI CARUSO PAOLO",
         "SIQURA SRLS",
         "16.73",
         "1.67",
         "'BAR TORINO DI CARUSO PAOLO'",
         "'SIQURA SRLS'"
        ],
        [
         "69",
         "2025-02-07 00:00:00",
         "BAR TORINO DI CARUSO PAOLO",
         "AXIAL FANS INT SRL",
         "73.82",
         "7.38",
         "'BAR TORINO DI CARUSO PAOLO'",
         "'AXIAL FANS INT SRL'"
        ],
        [
         "68",
         "2025-02-12 00:00:00",
         "BAR TORINO DI CARUSO PAOLO",
         "ECOTEK AMBIENTE SRL",
         "27.82",
         "2.78",
         "'BAR TORINO DI CARUSO PAOLO'",
         "'ECOTEK AMBIENTE SRL'"
        ],
        [
         "67",
         "2025-02-12 00:00:00",
         "BAR TORINO DI CARUSO PAOLO",
         "IMPRESA EDILE",
         "9.09",
         "0.91",
         "'BAR TORINO DI CARUSO PAOLO'",
         "'IMPRESA EDILE'"
        ],
        [
         "66",
         "2025-02-14 00:00:00",
         "BAR TORINO DI CARUSO PAOLO",
         "AXIAL FANS INT SRL",
         "72.18",
         "7.22",
         "'BAR TORINO DI CARUSO PAOLO'",
         "'AXIAL FANS INT SRL'"
        ],
        [
         "65",
         "2025-02-17 00:00:00",
         "BAR TORINO DI CARUSO PAOLO",
         "OIL CONTROL TRANSFORMERS SRL",
         "17.27",
         "1.73",
         "'BAR TORINO DI CARUSO PAOLO'",
         "'OIL CONTROL TRANSFORMERS SRL'"
        ],
        [
         "64",
         "2025-02-18 00:00:00",
         "BAR TORINO DI CARUSO PAOLO",
         "OIL CONTROL TRANSFORMERS SRL",
         "17.27",
         "1.73",
         "'BAR TORINO DI CARUSO PAOLO'",
         "'OIL CONTROL TRANSFORMERS SRL'"
        ],
        [
         "63",
         "2025-02-19 00:00:00",
         "BAR TORINO DI CARUSO PAOLO",
         "OIL CONTROL TRANSFORMERS SRL",
         "18.18",
         "1.82",
         "'BAR TORINO DI CARUSO PAOLO'",
         "'OIL CONTROL TRANSFORMERS SRL'"
        ],
        [
         "62",
         "2025-02-19 00:00:00",
         "BAR TORINO DI CARUSO PAOLO",
         "ECOTEK AMBIENTE SRL",
         "65.36",
         "6.54",
         "'BAR TORINO DI CARUSO PAOLO'",
         "'ECOTEK AMBIENTE SRL'"
        ],
        [
         "61",
         "2025-02-19 00:00:00",
         "BAR TORINO DI CARUSO PAOLO",
         "IMPRESAMARE SRL",
         "35.73",
         "3.57",
         "'BAR TORINO DI CARUSO PAOLO'",
         "'IMPRESAMARE SRL'"
        ],
        [
         "60",
         "2025-02-20 00:00:00",
         "BAR TORINO DI CARUSO PAOLO",
         "OIL CONTROL TRANSFORMERS SRL",
         "18.18",
         "1.82",
         "'BAR TORINO DI CARUSO PAOLO'",
         "'OIL CONTROL TRANSFORMERS SRL'"
        ],
        [
         "59",
         "2025-02-20 00:00:00",
         "BAR TORINO DI CARUSO PAOLO",
         "IMPRESAMARE SRL",
         "20.18",
         "2.02",
         "'BAR TORINO DI CARUSO PAOLO'",
         "'IMPRESAMARE SRL'"
        ],
        [
         "58",
         "2025-02-21 00:00:00",
         "BAR TORINO DI CARUSO PAOLO",
         "D.B. CONTROL SNC",
         "18.55",
         "1.85",
         "'BAR TORINO DI CARUSO PAOLO'",
         "'D.B. CONTROL SNC'"
        ],
        [
         "57",
         "2025-02-21 00:00:00",
         "BAR TORINO DI CARUSO PAOLO",
         "AXIAL FANS INT SRL",
         "64.45",
         "6.45",
         "'BAR TORINO DI CARUSO PAOLO'",
         "'AXIAL FANS INT SRL'"
        ],
        [
         "56",
         "2025-02-21 00:00:00",
         "BAR TORINO DI CARUSO PAOLO",
         "SIDERCEM",
         "32.36",
         "3.24",
         "'BAR TORINO DI CARUSO PAOLO'",
         "'SIDERCEM'"
        ]
       ],
       "shape": {
        "columns": 7,
        "rows": 158
       }
      },
      "text/html": [
       "<div>\n",
       "<style scoped>\n",
       "    .dataframe tbody tr th:only-of-type {\n",
       "        vertical-align: middle;\n",
       "    }\n",
       "\n",
       "    .dataframe tbody tr th {\n",
       "        vertical-align: top;\n",
       "    }\n",
       "\n",
       "    .dataframe thead th {\n",
       "        text-align: right;\n",
       "    }\n",
       "</style>\n",
       "<table border=\"1\" class=\"dataframe\">\n",
       "  <thead>\n",
       "    <tr style=\"text-align: right;\">\n",
       "      <th></th>\n",
       "      <th>Data emissione</th>\n",
       "      <th>Denominazione fornitore</th>\n",
       "      <th>Denominazione cliente</th>\n",
       "      <th>Imponibile/Importo (totale in euro)</th>\n",
       "      <th>Imposta (totale in euro)</th>\n",
       "      <th>Bar</th>\n",
       "      <th>Cliente</th>\n",
       "    </tr>\n",
       "  </thead>\n",
       "  <tbody>\n",
       "    <tr>\n",
       "      <th>105</th>\n",
       "      <td>2025-01-07</td>\n",
       "      <td>BAR TORINO DI CARUSO PAOLO</td>\n",
       "      <td>SEMEC SRL</td>\n",
       "      <td>38.64</td>\n",
       "      <td>3.86</td>\n",
       "      <td>'BAR TORINO DI CARUSO PAOLO'</td>\n",
       "      <td>'SEMEC SRL'</td>\n",
       "    </tr>\n",
       "    <tr>\n",
       "      <th>104</th>\n",
       "      <td>2025-01-07</td>\n",
       "      <td>BAR TORINO DI CARUSO PAOLO</td>\n",
       "      <td>ASSO AGRICOLTURA SRLS SOC.AGRICOLA</td>\n",
       "      <td>9.09</td>\n",
       "      <td>0.91</td>\n",
       "      <td>'BAR TORINO DI CARUSO PAOLO'</td>\n",
       "      <td>'ASSO AGRICOLTURA SRLS SOC.AGRICOLA'</td>\n",
       "    </tr>\n",
       "    <tr>\n",
       "      <th>103</th>\n",
       "      <td>2025-01-08</td>\n",
       "      <td>BAR TORINO DI CARUSO PAOLO</td>\n",
       "      <td>SEMEC SRL</td>\n",
       "      <td>40.00</td>\n",
       "      <td>4.00</td>\n",
       "      <td>'BAR TORINO DI CARUSO PAOLO'</td>\n",
       "      <td>'SEMEC SRL'</td>\n",
       "    </tr>\n",
       "    <tr>\n",
       "      <th>102</th>\n",
       "      <td>2025-01-09</td>\n",
       "      <td>BAR TORINO DI CARUSO PAOLO</td>\n",
       "      <td>SEMEC SRL</td>\n",
       "      <td>25.45</td>\n",
       "      <td>2.55</td>\n",
       "      <td>'BAR TORINO DI CARUSO PAOLO'</td>\n",
       "      <td>'SEMEC SRL'</td>\n",
       "    </tr>\n",
       "    <tr>\n",
       "      <th>99</th>\n",
       "      <td>2025-01-10</td>\n",
       "      <td>BAR TORINO DI CARUSO PAOLO</td>\n",
       "      <td>SEMEC SRL</td>\n",
       "      <td>40.00</td>\n",
       "      <td>4.00</td>\n",
       "      <td>'BAR TORINO DI CARUSO PAOLO'</td>\n",
       "      <td>'SEMEC SRL'</td>\n",
       "    </tr>\n",
       "    <tr>\n",
       "      <th>...</th>\n",
       "      <td>...</td>\n",
       "      <td>...</td>\n",
       "      <td>...</td>\n",
       "      <td>...</td>\n",
       "      <td>...</td>\n",
       "      <td>...</td>\n",
       "      <td>...</td>\n",
       "    </tr>\n",
       "    <tr>\n",
       "      <th>110</th>\n",
       "      <td>2025-06-07</td>\n",
       "      <td>BAR TORINO DI CARUSO PAOLO</td>\n",
       "      <td>ENTUSA SRL</td>\n",
       "      <td>86.36</td>\n",
       "      <td>8.64</td>\n",
       "      <td>'BAR TORINO DI CARUSO PAOLO'</td>\n",
       "      <td>'ENTUSA SRL'</td>\n",
       "    </tr>\n",
       "    <tr>\n",
       "      <th>109</th>\n",
       "      <td>2025-06-09</td>\n",
       "      <td>BAR TORINO DI CARUSO PAOLO</td>\n",
       "      <td>GESIND SRL</td>\n",
       "      <td>7.73</td>\n",
       "      <td>0.77</td>\n",
       "      <td>'BAR TORINO DI CARUSO PAOLO'</td>\n",
       "      <td>'GESIND SRL'</td>\n",
       "    </tr>\n",
       "    <tr>\n",
       "      <th>108</th>\n",
       "      <td>2025-06-12</td>\n",
       "      <td>BAR TORINO DI CARUSO PAOLO</td>\n",
       "      <td>SIDERCEM</td>\n",
       "      <td>28.18</td>\n",
       "      <td>2.82</td>\n",
       "      <td>'BAR TORINO DI CARUSO PAOLO'</td>\n",
       "      <td>'SIDERCEM'</td>\n",
       "    </tr>\n",
       "    <tr>\n",
       "      <th>107</th>\n",
       "      <td>2025-06-14</td>\n",
       "      <td>BAR TORINO DI CARUSO PAOLO</td>\n",
       "      <td>ENTUSA SRL</td>\n",
       "      <td>36.36</td>\n",
       "      <td>3.64</td>\n",
       "      <td>'BAR TORINO DI CARUSO PAOLO'</td>\n",
       "      <td>'ENTUSA SRL'</td>\n",
       "    </tr>\n",
       "    <tr>\n",
       "      <th>106</th>\n",
       "      <td>2025-06-16</td>\n",
       "      <td>BAR TORINO DI CARUSO PAOLO</td>\n",
       "      <td>SEMEC SRL</td>\n",
       "      <td>45.45</td>\n",
       "      <td>4.55</td>\n",
       "      <td>'BAR TORINO DI CARUSO PAOLO'</td>\n",
       "      <td>'SEMEC SRL'</td>\n",
       "    </tr>\n",
       "  </tbody>\n",
       "</table>\n",
       "<p>158 rows × 7 columns</p>\n",
       "</div>"
      ],
      "text/plain": [
       "    Data emissione     Denominazione fornitore  \\\n",
       "105     2025-01-07  BAR TORINO DI CARUSO PAOLO   \n",
       "104     2025-01-07  BAR TORINO DI CARUSO PAOLO   \n",
       "103     2025-01-08  BAR TORINO DI CARUSO PAOLO   \n",
       "102     2025-01-09  BAR TORINO DI CARUSO PAOLO   \n",
       "99      2025-01-10  BAR TORINO DI CARUSO PAOLO   \n",
       "..             ...                         ...   \n",
       "110     2025-06-07  BAR TORINO DI CARUSO PAOLO   \n",
       "109     2025-06-09  BAR TORINO DI CARUSO PAOLO   \n",
       "108     2025-06-12  BAR TORINO DI CARUSO PAOLO   \n",
       "107     2025-06-14  BAR TORINO DI CARUSO PAOLO   \n",
       "106     2025-06-16  BAR TORINO DI CARUSO PAOLO   \n",
       "\n",
       "                  Denominazione cliente  Imponibile/Importo (totale in euro)  \\\n",
       "105                           SEMEC SRL                                38.64   \n",
       "104  ASSO AGRICOLTURA SRLS SOC.AGRICOLA                                 9.09   \n",
       "103                           SEMEC SRL                                40.00   \n",
       "102                           SEMEC SRL                                25.45   \n",
       "99                            SEMEC SRL                                40.00   \n",
       "..                                  ...                                  ...   \n",
       "110                          ENTUSA SRL                                86.36   \n",
       "109                          GESIND SRL                                 7.73   \n",
       "108                            SIDERCEM                                28.18   \n",
       "107                          ENTUSA SRL                                36.36   \n",
       "106                           SEMEC SRL                                45.45   \n",
       "\n",
       "     Imposta (totale in euro)                           Bar  \\\n",
       "105                      3.86  'BAR TORINO DI CARUSO PAOLO'   \n",
       "104                      0.91  'BAR TORINO DI CARUSO PAOLO'   \n",
       "103                      4.00  'BAR TORINO DI CARUSO PAOLO'   \n",
       "102                      2.55  'BAR TORINO DI CARUSO PAOLO'   \n",
       "99                       4.00  'BAR TORINO DI CARUSO PAOLO'   \n",
       "..                        ...                           ...   \n",
       "110                      8.64  'BAR TORINO DI CARUSO PAOLO'   \n",
       "109                      0.77  'BAR TORINO DI CARUSO PAOLO'   \n",
       "108                      2.82  'BAR TORINO DI CARUSO PAOLO'   \n",
       "107                      3.64  'BAR TORINO DI CARUSO PAOLO'   \n",
       "106                      4.55  'BAR TORINO DI CARUSO PAOLO'   \n",
       "\n",
       "                                  Cliente  \n",
       "105                           'SEMEC SRL'  \n",
       "104  'ASSO AGRICOLTURA SRLS SOC.AGRICOLA'  \n",
       "103                           'SEMEC SRL'  \n",
       "102                           'SEMEC SRL'  \n",
       "99                            'SEMEC SRL'  \n",
       "..                                    ...  \n",
       "110                          'ENTUSA SRL'  \n",
       "109                          'GESIND SRL'  \n",
       "108                            'SIDERCEM'  \n",
       "107                          'ENTUSA SRL'  \n",
       "106                           'SEMEC SRL'  \n",
       "\n",
       "[158 rows x 7 columns]"
      ]
     },
     "execution_count": 29,
     "metadata": {},
     "output_type": "execute_result"
    }
   ],
   "source": [
    "Emesse"
   ]
  },
  {
   "cell_type": "code",
   "execution_count": 28,
   "id": "1acdc716",
   "metadata": {},
   "outputs": [],
   "source": [
    "Emesse['Denominazione cliente'] = Emesse['Denominazione cliente'].str.replace(\"'\", \"\", regex=True)\n",
    "Emesse['Denominazione fornitore'] = Emesse['Denominazione fornitore'].str.replace(\"'\", \"\", regex=True)\n"
   ]
  },
  {
   "cell_type": "code",
   "execution_count": 30,
   "id": "e10a45b5",
   "metadata": {},
   "outputs": [],
   "source": [
    "Emesse['ImportoTotaleVendite'] = Emesse['Imponibile/Importo (totale in euro)'] + Emesse['Imposta (totale in euro)']"
   ]
  },
  {
   "cell_type": "code",
   "execution_count": 31,
   "id": "4a72a16f",
   "metadata": {},
   "outputs": [],
   "source": [
    "Emesse['ImportoTotaleVendite'] = Emesse['ImportoTotaleVendite'].round()"
   ]
  },
  {
   "cell_type": "code",
   "execution_count": 32,
   "id": "eef7dd6e",
   "metadata": {},
   "outputs": [],
   "source": [
    "Emesse['Data']= Emesse['Data emissione']"
   ]
  },
  {
   "cell_type": "code",
   "execution_count": 33,
   "id": "0ae59d14",
   "metadata": {},
   "outputs": [],
   "source": [
    "Emesse = Emesse.loc[:,['Data', 'Bar','Cliente','ImportoTotaleVendite']]"
   ]
  },
  {
   "cell_type": "code",
   "execution_count": 34,
   "id": "0f5bb869",
   "metadata": {},
   "outputs": [],
   "source": [
    "Emesse = Emesse[Emesse['Cliente'] != 'Mooney Servizi S.p.A.']"
   ]
  },
  {
   "cell_type": "code",
   "execution_count": 41,
   "id": "affc75c2",
   "metadata": {},
   "outputs": [
    {
     "data": {
      "application/vnd.microsoft.datawrangler.viewer.v0+json": {
       "columns": [
        {
         "name": "index",
         "rawType": "int64",
         "type": "integer"
        },
        {
         "name": "Data",
         "rawType": "datetime64[ns]",
         "type": "datetime"
        },
        {
         "name": "Bar",
         "rawType": "object",
         "type": "string"
        },
        {
         "name": "Cliente",
         "rawType": "object",
         "type": "string"
        },
        {
         "name": "ImportoTotaleVendite",
         "rawType": "float64",
         "type": "float"
        }
       ],
       "ref": "8d5f2177-0ae2-44df-a1e8-7ac98bc32fbc",
       "rows": [
        [
         "105",
         "2025-01-07 00:00:00",
         "BARTORINODICARUSOPAOLO",
         "SEMEC SRL",
         "42.0"
        ],
        [
         "104",
         "2025-01-07 00:00:00",
         "BARTORINODICARUSOPAOLO",
         "ASSO AGRICOLTURA SRLS SOC.AGRICOLA",
         "10.0"
        ],
        [
         "103",
         "2025-01-08 00:00:00",
         "BARTORINODICARUSOPAOLO",
         "SEMEC SRL",
         "44.0"
        ],
        [
         "102",
         "2025-01-09 00:00:00",
         "BARTORINODICARUSOPAOLO",
         "SEMEC SRL",
         "28.0"
        ],
        [
         "99",
         "2025-01-10 00:00:00",
         "BARTORINODICARUSOPAOLO",
         "SEMEC SRL",
         "44.0"
        ],
        [
         "101",
         "2025-01-10 00:00:00",
         "BARTORINODICARUSOPAOLO",
         "CESTARO ROSSI  C.-S.P.A.",
         "72.0"
        ],
        [
         "100",
         "2025-01-10 00:00:00",
         "BARTORINODICARUSOPAOLO",
         "AXIAL FANS INT SRL",
         "99.0"
        ],
        [
         "98",
         "2025-01-14 00:00:00",
         "BARTORINODICARUSOPAOLO",
         "SEMEC SRL",
         "84.0"
        ],
        [
         "97",
         "2025-01-14 00:00:00",
         "BARTORINODICARUSOPAOLO",
         "EVAGRIN SRL",
         "8.0"
        ],
        [
         "96",
         "2025-01-14 00:00:00",
         "BARTORINODICARUSOPAOLO",
         "RCN ITALIA DI ACCIARO M. LUCIA",
         "20.0"
        ],
        [
         "95",
         "2025-01-15 00:00:00",
         "BARTORINODICARUSOPAOLO",
         "ECOTEK AMBIENTE SRL",
         "60.0"
        ],
        [
         "94",
         "2025-01-15 00:00:00",
         "BARTORINODICARUSOPAOLO",
         "SEMEC SRL",
         "68.0"
        ],
        [
         "93",
         "2025-01-15 00:00:00",
         "BARTORINODICARUSOPAOLO",
         "IMPRESA EDILE",
         "18.0"
        ],
        [
         "92",
         "2025-01-16 00:00:00",
         "BARTORINODICARUSOPAOLO",
         "SEMEC SRL",
         "41.0"
        ],
        [
         "91",
         "2025-01-17 00:00:00",
         "BARTORINODICARUSOPAOLO",
         "AXIAL FANS INT SRL",
         "71.0"
        ],
        [
         "90",
         "2025-01-20 00:00:00",
         "BARTORINODICARUSOPAOLO",
         "SEMEC SRL",
         "50.0"
        ],
        [
         "89",
         "2025-01-21 00:00:00",
         "BARTORINODICARUSOPAOLO",
         "D.B. CONTROL SNC",
         "21.0"
        ],
        [
         "88",
         "2025-01-21 00:00:00",
         "BARTORINODICARUSOPAOLO",
         "SEMEC SRL",
         "55.0"
        ],
        [
         "87",
         "2025-01-22 00:00:00",
         "BARTORINODICARUSOPAOLO",
         "SEMEC SRL",
         "55.0"
        ],
        [
         "86",
         "2025-01-23 00:00:00",
         "BARTORINODICARUSOPAOLO",
         "SEMEC SRL",
         "52.0"
        ],
        [
         "85",
         "2025-01-24 00:00:00",
         "BARTORINODICARUSOPAOLO",
         "BETA LAB S.R.L.",
         "69.0"
        ],
        [
         "84",
         "2025-01-24 00:00:00",
         "BARTORINODICARUSOPAOLO",
         "SEMEC SRL",
         "56.0"
        ],
        [
         "83",
         "2025-01-24 00:00:00",
         "BARTORINODICARUSOPAOLO",
         "AXIAL FANS INT SRL",
         "80.0"
        ],
        [
         "82",
         "2025-01-27 00:00:00",
         "BARTORINODICARUSOPAOLO",
         "SEMEC SRL",
         "48.0"
        ],
        [
         "81",
         "2025-01-28 00:00:00",
         "BARTORINODICARUSOPAOLO",
         "SEMEC SRL",
         "58.0"
        ],
        [
         "80",
         "2025-01-28 00:00:00",
         "BARTORINODICARUSOPAOLO",
         "DEMICED SRL",
         "10.0"
        ],
        [
         "79",
         "2025-01-29 00:00:00",
         "BARTORINODICARUSOPAOLO",
         "SEMEC SRL",
         "72.0"
        ],
        [
         "78",
         "2025-01-29 00:00:00",
         "BARTORINODICARUSOPAOLO",
         "In Situ s.r.l",
         "21.0"
        ],
        [
         "77",
         "2025-01-30 00:00:00",
         "BARTORINODICARUSOPAOLO",
         "AXIAL FANS INT SRL",
         "75.0"
        ],
        [
         "76",
         "2025-01-30 00:00:00",
         "BARTORINODICARUSOPAOLO",
         "SEMEC SRL",
         "83.0"
        ],
        [
         "75",
         "2025-01-31 00:00:00",
         "BARTORINODICARUSOPAOLO",
         "SEMEC SRL",
         "119.0"
        ],
        [
         "74",
         "2025-01-31 00:00:00",
         "BARTORINODICARUSOPAOLO",
         "GERRATANA SALVATORE",
         "56.0"
        ],
        [
         "73",
         "2025-02-01 00:00:00",
         "BARTORINODICARUSOPAOLO",
         "ENTUSA SRL",
         "69.0"
        ],
        [
         "72",
         "2025-02-04 00:00:00",
         "BARTORINODICARUSOPAOLO",
         "SEMEC SRL",
         "55.0"
        ],
        [
         "71",
         "2025-02-05 00:00:00",
         "BARTORINODICARUSOPAOLO",
         "Mooney Servizi S.p.A.",
         "0.0"
        ],
        [
         "70",
         "2025-02-05 00:00:00",
         "BARTORINODICARUSOPAOLO",
         "SIQURA SRLS",
         "18.0"
        ],
        [
         "69",
         "2025-02-07 00:00:00",
         "BARTORINODICARUSOPAOLO",
         "AXIAL FANS INT SRL",
         "81.0"
        ],
        [
         "68",
         "2025-02-12 00:00:00",
         "BARTORINODICARUSOPAOLO",
         "ECOTEK AMBIENTE SRL",
         "31.0"
        ],
        [
         "67",
         "2025-02-12 00:00:00",
         "BARTORINODICARUSOPAOLO",
         "IMPRESA EDILE",
         "10.0"
        ],
        [
         "66",
         "2025-02-14 00:00:00",
         "BARTORINODICARUSOPAOLO",
         "AXIAL FANS INT SRL",
         "79.0"
        ],
        [
         "65",
         "2025-02-17 00:00:00",
         "BARTORINODICARUSOPAOLO",
         "OIL CONTROL TRANSFORMERS SRL",
         "19.0"
        ],
        [
         "64",
         "2025-02-18 00:00:00",
         "BARTORINODICARUSOPAOLO",
         "OIL CONTROL TRANSFORMERS SRL",
         "19.0"
        ],
        [
         "63",
         "2025-02-19 00:00:00",
         "BARTORINODICARUSOPAOLO",
         "OIL CONTROL TRANSFORMERS SRL",
         "20.0"
        ],
        [
         "62",
         "2025-02-19 00:00:00",
         "BARTORINODICARUSOPAOLO",
         "ECOTEK AMBIENTE SRL",
         "72.0"
        ],
        [
         "61",
         "2025-02-19 00:00:00",
         "BARTORINODICARUSOPAOLO",
         "IMPRESAMARE SRL",
         "39.0"
        ],
        [
         "60",
         "2025-02-20 00:00:00",
         "BARTORINODICARUSOPAOLO",
         "OIL CONTROL TRANSFORMERS SRL",
         "20.0"
        ],
        [
         "59",
         "2025-02-20 00:00:00",
         "BARTORINODICARUSOPAOLO",
         "IMPRESAMARE SRL",
         "22.0"
        ],
        [
         "58",
         "2025-02-21 00:00:00",
         "BARTORINODICARUSOPAOLO",
         "D.B. CONTROL SNC",
         "20.0"
        ],
        [
         "57",
         "2025-02-21 00:00:00",
         "BARTORINODICARUSOPAOLO",
         "AXIAL FANS INT SRL",
         "71.0"
        ],
        [
         "56",
         "2025-02-21 00:00:00",
         "BARTORINODICARUSOPAOLO",
         "SIDERCEM",
         "36.0"
        ]
       ],
       "shape": {
        "columns": 4,
        "rows": 158
       }
      },
      "text/html": [
       "<div>\n",
       "<style scoped>\n",
       "    .dataframe tbody tr th:only-of-type {\n",
       "        vertical-align: middle;\n",
       "    }\n",
       "\n",
       "    .dataframe tbody tr th {\n",
       "        vertical-align: top;\n",
       "    }\n",
       "\n",
       "    .dataframe thead th {\n",
       "        text-align: right;\n",
       "    }\n",
       "</style>\n",
       "<table border=\"1\" class=\"dataframe\">\n",
       "  <thead>\n",
       "    <tr style=\"text-align: right;\">\n",
       "      <th></th>\n",
       "      <th>Data</th>\n",
       "      <th>Bar</th>\n",
       "      <th>Cliente</th>\n",
       "      <th>ImportoTotaleVendite</th>\n",
       "    </tr>\n",
       "  </thead>\n",
       "  <tbody>\n",
       "    <tr>\n",
       "      <th>105</th>\n",
       "      <td>2025-01-07</td>\n",
       "      <td>BARTORINODICARUSOPAOLO</td>\n",
       "      <td>SEMEC SRL</td>\n",
       "      <td>42.0</td>\n",
       "    </tr>\n",
       "    <tr>\n",
       "      <th>104</th>\n",
       "      <td>2025-01-07</td>\n",
       "      <td>BARTORINODICARUSOPAOLO</td>\n",
       "      <td>ASSO AGRICOLTURA SRLS SOC.AGRICOLA</td>\n",
       "      <td>10.0</td>\n",
       "    </tr>\n",
       "    <tr>\n",
       "      <th>103</th>\n",
       "      <td>2025-01-08</td>\n",
       "      <td>BARTORINODICARUSOPAOLO</td>\n",
       "      <td>SEMEC SRL</td>\n",
       "      <td>44.0</td>\n",
       "    </tr>\n",
       "    <tr>\n",
       "      <th>102</th>\n",
       "      <td>2025-01-09</td>\n",
       "      <td>BARTORINODICARUSOPAOLO</td>\n",
       "      <td>SEMEC SRL</td>\n",
       "      <td>28.0</td>\n",
       "    </tr>\n",
       "    <tr>\n",
       "      <th>99</th>\n",
       "      <td>2025-01-10</td>\n",
       "      <td>BARTORINODICARUSOPAOLO</td>\n",
       "      <td>SEMEC SRL</td>\n",
       "      <td>44.0</td>\n",
       "    </tr>\n",
       "    <tr>\n",
       "      <th>...</th>\n",
       "      <td>...</td>\n",
       "      <td>...</td>\n",
       "      <td>...</td>\n",
       "      <td>...</td>\n",
       "    </tr>\n",
       "    <tr>\n",
       "      <th>110</th>\n",
       "      <td>2025-06-07</td>\n",
       "      <td>BARTORINODICARUSOPAOLO</td>\n",
       "      <td>ENTUSA SRL</td>\n",
       "      <td>95.0</td>\n",
       "    </tr>\n",
       "    <tr>\n",
       "      <th>109</th>\n",
       "      <td>2025-06-09</td>\n",
       "      <td>BARTORINODICARUSOPAOLO</td>\n",
       "      <td>GESIND SRL</td>\n",
       "      <td>8.0</td>\n",
       "    </tr>\n",
       "    <tr>\n",
       "      <th>108</th>\n",
       "      <td>2025-06-12</td>\n",
       "      <td>BARTORINODICARUSOPAOLO</td>\n",
       "      <td>SIDERCEM</td>\n",
       "      <td>31.0</td>\n",
       "    </tr>\n",
       "    <tr>\n",
       "      <th>107</th>\n",
       "      <td>2025-06-14</td>\n",
       "      <td>BARTORINODICARUSOPAOLO</td>\n",
       "      <td>ENTUSA SRL</td>\n",
       "      <td>40.0</td>\n",
       "    </tr>\n",
       "    <tr>\n",
       "      <th>106</th>\n",
       "      <td>2025-06-16</td>\n",
       "      <td>BARTORINODICARUSOPAOLO</td>\n",
       "      <td>SEMEC SRL</td>\n",
       "      <td>50.0</td>\n",
       "    </tr>\n",
       "  </tbody>\n",
       "</table>\n",
       "<p>158 rows × 4 columns</p>\n",
       "</div>"
      ],
      "text/plain": [
       "          Data                     Bar                             Cliente  \\\n",
       "105 2025-01-07  BARTORINODICARUSOPAOLO                           SEMEC SRL   \n",
       "104 2025-01-07  BARTORINODICARUSOPAOLO  ASSO AGRICOLTURA SRLS SOC.AGRICOLA   \n",
       "103 2025-01-08  BARTORINODICARUSOPAOLO                           SEMEC SRL   \n",
       "102 2025-01-09  BARTORINODICARUSOPAOLO                           SEMEC SRL   \n",
       "99  2025-01-10  BARTORINODICARUSOPAOLO                           SEMEC SRL   \n",
       "..         ...                     ...                                 ...   \n",
       "110 2025-06-07  BARTORINODICARUSOPAOLO                          ENTUSA SRL   \n",
       "109 2025-06-09  BARTORINODICARUSOPAOLO                          GESIND SRL   \n",
       "108 2025-06-12  BARTORINODICARUSOPAOLO                            SIDERCEM   \n",
       "107 2025-06-14  BARTORINODICARUSOPAOLO                          ENTUSA SRL   \n",
       "106 2025-06-16  BARTORINODICARUSOPAOLO                           SEMEC SRL   \n",
       "\n",
       "     ImportoTotaleVendite  \n",
       "105                  42.0  \n",
       "104                  10.0  \n",
       "103                  44.0  \n",
       "102                  28.0  \n",
       "99                   44.0  \n",
       "..                    ...  \n",
       "110                  95.0  \n",
       "109                   8.0  \n",
       "108                  31.0  \n",
       "107                  40.0  \n",
       "106                  50.0  \n",
       "\n",
       "[158 rows x 4 columns]"
      ]
     },
     "execution_count": 41,
     "metadata": {},
     "output_type": "execute_result"
    }
   ],
   "source": [
    "Emesse"
   ]
  },
  {
   "cell_type": "code",
   "execution_count": 38,
   "id": "54fba9bb",
   "metadata": {},
   "outputs": [],
   "source": [
    "Emesse['Bar'] = Emesse['Bar'].str.replace(\"'\",'', regex=True)"
   ]
  },
  {
   "cell_type": "code",
   "execution_count": 40,
   "id": "12b60238",
   "metadata": {},
   "outputs": [],
   "source": [
    "Emesse['Cliente'] = Emesse['Cliente'].str.replace(\"'\",'', regex=True)"
   ]
  },
  {
   "cell_type": "code",
   "execution_count": 42,
   "id": "0cdb7bba",
   "metadata": {},
   "outputs": [],
   "source": [
    "Emesse.to_csv('FattureEmesse.csv')"
   ]
  },
  {
   "cell_type": "code",
   "execution_count": 43,
   "id": "6590933f",
   "metadata": {},
   "outputs": [],
   "source": [
    "PrimoTrimestre = pd.read_csv(r'C:\\Users\\fabio\\OneDrive\\Desktop\\AgenziaDelleEntrate\\FileSuCuiLavorare\\Fatture ricevute primo trimestre.csv', sep=';', encoding='latin1')"
   ]
  },
  {
   "cell_type": "code",
   "execution_count": 44,
   "id": "a996317c",
   "metadata": {},
   "outputs": [],
   "source": [
    "SecondoTrimestre = pd.read_csv(r'C:\\Users\\fabio\\OneDrive\\Desktop\\AgenziaDelleEntrate\\FileSuCuiLavorare\\Fatture ricevute secondo trimestre.csv', sep=';', encoding='latin1')"
   ]
  },
  {
   "cell_type": "code",
   "execution_count": 45,
   "id": "379e1506",
   "metadata": {},
   "outputs": [],
   "source": [
    "Ricevute = pd.concat([PrimoTrimestre, SecondoTrimestre], ignore_index=True)"
   ]
  },
  {
   "cell_type": "code",
   "execution_count": 46,
   "id": "fe662644",
   "metadata": {},
   "outputs": [],
   "source": [
    "Ricevute = Ricevute.loc[:,['Data emissione','Denominazione fornitore','Denominazione cliente','Imponibile/Importo (totale in euro)',\n",
    "       'Imposta (totale in euro)']]"
   ]
  },
  {
   "cell_type": "code",
   "execution_count": 159,
   "id": "e91aaadd",
   "metadata": {},
   "outputs": [
    {
     "name": "stdout",
     "output_type": "stream",
     "text": [
      "<class 'pandas.core.frame.DataFrame'>\n",
      "RangeIndex: 433 entries, 0 to 432\n",
      "Data columns (total 6 columns):\n",
      " #   Column                               Non-Null Count  Dtype         \n",
      "---  ------                               --------------  -----         \n",
      " 0   Data emissione                       433 non-null    datetime64[ns]\n",
      " 1   Denominazione fornitore              433 non-null    object        \n",
      " 2   Denominazione cliente                433 non-null    object        \n",
      " 3   Imponibile/Importo (totale in euro)  433 non-null    object        \n",
      " 4   Imposta (totale in euro)             433 non-null    object        \n",
      " 5   Data                                 433 non-null    datetime64[ns]\n",
      "dtypes: datetime64[ns](2), object(4)\n",
      "memory usage: 20.4+ KB\n"
     ]
    }
   ],
   "source": [
    "Ricevute.info()"
   ]
  },
  {
   "cell_type": "code",
   "execution_count": 47,
   "id": "2f4b1c54",
   "metadata": {},
   "outputs": [],
   "source": [
    "Ricevute['Data emissione'] = pd.to_datetime(Ricevute['Data emissione'], dayfirst=True).dt.normalize()\n",
    "Ricevute['Data'] = Ricevute['Data emissione']"
   ]
  },
  {
   "cell_type": "code",
   "execution_count": 48,
   "id": "51c9c0a9",
   "metadata": {},
   "outputs": [],
   "source": [
    "Ricevute = Ricevute.loc[:,['Data','Denominazione fornitore','Denominazione cliente','Imponibile/Importo (totale in euro)',\n",
    "       'Imposta (totale in euro)']]"
   ]
  },
  {
   "cell_type": "code",
   "execution_count": 49,
   "id": "a450b175",
   "metadata": {},
   "outputs": [],
   "source": [
    "Ricevute['Imponibile/Importo (totale in euro)'] = Ricevute['Imponibile/Importo (totale in euro)'].str.replace(',', '.', regex=True)\n",
    "Ricevute['Imposta (totale in euro)'] = Ricevute['Imposta (totale in euro)'].str.replace(',', '.', regex=True)"
   ]
  },
  {
   "cell_type": "code",
   "execution_count": 50,
   "id": "28ecfe4e",
   "metadata": {},
   "outputs": [],
   "source": [
    "Ricevute['Imponibile/Importo (totale in euro)'] = pd.to_numeric(Ricevute['Imponibile/Importo (totale in euro)'], errors='coerce')\n",
    "Ricevute['Imposta (totale in euro)'] =pd.to_numeric(Ricevute['Imposta (totale in euro)'], errors='coerce')"
   ]
  },
  {
   "cell_type": "code",
   "execution_count": 51,
   "id": "384085a9",
   "metadata": {},
   "outputs": [],
   "source": [
    "Ricevute['ImportoTotaleAcquisti'] = Ricevute['Imponibile/Importo (totale in euro)'] + Ricevute['Imposta (totale in euro)']\n",
    "Ricevute['ImportoTotaleAcquisti'] = Ricevute['ImportoTotaleAcquisti'].round()"
   ]
  },
  {
   "cell_type": "code",
   "execution_count": 52,
   "id": "b2952606",
   "metadata": {},
   "outputs": [],
   "source": [
    "Ricevute = Ricevute.loc[:,['Data','Denominazione fornitore','Denominazione cliente','ImportoTotaleAcquisti']]"
   ]
  },
  {
   "cell_type": "code",
   "execution_count": 53,
   "id": "738513b9",
   "metadata": {},
   "outputs": [],
   "source": [
    "Ricevute['Bar'] = 'BAR TORINO DI CARUSO PAOLO'"
   ]
  },
  {
   "cell_type": "code",
   "execution_count": 54,
   "id": "5b5f9bab",
   "metadata": {},
   "outputs": [],
   "source": [
    "Ricevute['Fornitore'] = Ricevute['Denominazione fornitore']"
   ]
  },
  {
   "cell_type": "code",
   "execution_count": 55,
   "id": "4dd317e0",
   "metadata": {},
   "outputs": [],
   "source": [
    "Ricevute = Ricevute.loc[:,['Data','Fornitore','Bar','ImportoTotaleAcquisti']]"
   ]
  },
  {
   "cell_type": "code",
   "execution_count": 56,
   "id": "5895cebf",
   "metadata": {},
   "outputs": [],
   "source": [
    "Ricevute['Fornitore'] = Ricevute['Fornitore'].str.upper()\n",
    "Ricevute['Fornitore'] = Ricevute['Fornitore'].str.replace(\"'\", \"\", regex=True)"
   ]
  },
  {
   "cell_type": "code",
   "execution_count": 284,
   "id": "e7c08922",
   "metadata": {},
   "outputs": [],
   "source": [
    "Ricevute = Ricevute [Ricevute['Fornitore'] != 'LOGISTA ITALIA S.P.A.']\n",
    "Ricevute = Ricevute [Ricevute['Fornitore'] != 'EMMETEC ITALIA SRL']\n",
    "Ricevute = Ricevute [Ricevute['Fornitore'] != 'MOONEY S.P.A.']\n",
    "Ricevute = Ricevute [Ricevute['Fornitore'] != 'COSTHA WARNAKULASURIYA']\n",
    "Ricevute = Ricevute [Ricevute['Fornitore'] != 'EDISON ENERGIA S.P.A.']\n",
    "Ricevute = Ricevute [Ricevute['Fornitore'] != 'LOTTERIE NAZIONALI SRL']\n",
    "Ricevute = Ricevute [Ricevute['Fornitore'] != 'WIND TRE S.P.A.']\n",
    "Ricevute = Ricevute [Ricevute['Fornitore'] != 'S.I.A.E.']\n",
    "Ricevute = Ricevute [Ricevute['Fornitore'] != 'DE.CO. SYSTEM NEW SOCIETA COOPERATIVA']\n",
    "Ricevute = Ricevute [Ricevute['Fornitore'] != 'ORAZIO PANIOTO ']\n",
    "Ricevute = Ricevute [Ricevute['Fornitore'] != 'EMMETEC ITALIA SRL']\n",
    "Ricevute = Ricevute [Ricevute['Fornitore'] != 'OVERTEC SRL']\n",
    "Ricevute = Ricevute [Ricevute['Fornitore'] != 'E.CO.M.A.P. S.C.P.A.']\n"
   ]
  },
  {
   "cell_type": "code",
   "execution_count": 61,
   "id": "4bfa3ed4",
   "metadata": {},
   "outputs": [
    {
     "data": {
      "application/vnd.microsoft.datawrangler.viewer.v0+json": {
       "columns": [
        {
         "name": "index",
         "rawType": "int64",
         "type": "integer"
        },
        {
         "name": "Data",
         "rawType": "datetime64[ns]",
         "type": "datetime"
        },
        {
         "name": "Fornitore",
         "rawType": "object",
         "type": "string"
        },
        {
         "name": "Bar",
         "rawType": "object",
         "type": "string"
        },
        {
         "name": "ImportoTotaleAcquisti",
         "rawType": "float64",
         "type": "float"
        }
       ],
       "ref": "5eda7617-f3c1-4817-b148-32582560a01b",
       "rows": [
        [
         "233",
         "2024-12-28 00:00:00",
         "FRIGO ARETUSA S.R.L.",
         "BAR TORINO DI CARUSO PAOLO",
         "80.0"
        ],
        [
         "226",
         "2024-12-30 00:00:00",
         "UNIGROUP S.P.A.",
         "BAR TORINO DI CARUSO PAOLO",
         "140.0"
        ],
        [
         "234",
         "2024-12-31 00:00:00",
         "KENYA CAFFE DI TROVATO DOMENICO & C.SNC",
         "BAR TORINO DI CARUSO PAOLO",
         "198.0"
        ],
        [
         "230",
         "2024-12-31 00:00:00",
         "ALICATA GROUP SRL",
         "BAR TORINO DI CARUSO PAOLO",
         "85.0"
        ],
        [
         "228",
         "2024-12-31 00:00:00",
         "PARMALAT SPA",
         "BAR TORINO DI CARUSO PAOLO",
         "102.0"
        ],
        [
         "225",
         "2025-01-02 00:00:00",
         "FRIGO ARETUSA S.R.L.",
         "BAR TORINO DI CARUSO PAOLO",
         "46.0"
        ],
        [
         "221",
         "2025-01-02 00:00:00",
         "UNIGROUP S.P.A.",
         "BAR TORINO DI CARUSO PAOLO",
         "120.0"
        ],
        [
         "223",
         "2025-01-02 00:00:00",
         "UNIGROUP S.P.A.",
         "BAR TORINO DI CARUSO PAOLO",
         "41.0"
        ],
        [
         "224",
         "2025-01-02 00:00:00",
         "LA DISTRIBUTRICE SRL",
         "BAR TORINO DI CARUSO PAOLO",
         "150.0"
        ],
        [
         "227",
         "2025-01-02 00:00:00",
         "R.M. DI RICCARDO MUNZONE",
         "BAR TORINO DI CARUSO PAOLO",
         "36.0"
        ],
        [
         "235",
         "2025-01-02 00:00:00",
         "MARTINI ALIMENTARE SRL",
         "BAR TORINO DI CARUSO PAOLO",
         "193.0"
        ],
        [
         "231",
         "2025-01-03 00:00:00",
         "SEBASTIANA DI MAURO",
         "BAR TORINO DI CARUSO PAOLO",
         "70.0"
        ],
        [
         "232",
         "2025-01-03 00:00:00",
         "CENTRO SERVIZI LOASI DI MARCO GALLO",
         "BAR TORINO DI CARUSO PAOLO",
         "250.0"
        ],
        [
         "229",
         "2025-01-04 00:00:00",
         "MARTINI ALIMENTARE SRL",
         "BAR TORINO DI CARUSO PAOLO",
         "94.0"
        ],
        [
         "212",
         "2025-01-07 00:00:00",
         "UNIGROUP S.P.A.",
         "BAR TORINO DI CARUSO PAOLO",
         "122.0"
        ],
        [
         "216",
         "2025-01-07 00:00:00",
         "ALICATA GROUP SRL",
         "BAR TORINO DI CARUSO PAOLO",
         "204.0"
        ],
        [
         "219",
         "2025-01-07 00:00:00",
         "FORTUNATO PINCIO",
         "BAR TORINO DI CARUSO PAOLO",
         "680.0"
        ],
        [
         "217",
         "2025-01-08 00:00:00",
         "LA DISTRIBUTRICE SRL",
         "BAR TORINO DI CARUSO PAOLO",
         "90.0"
        ],
        [
         "220",
         "2025-01-08 00:00:00",
         "MARTINI ALIMENTARE SRL",
         "BAR TORINO DI CARUSO PAOLO",
         "83.0"
        ],
        [
         "213",
         "2025-01-08 00:00:00",
         "FRIGO ARETUSA S.R.L.",
         "BAR TORINO DI CARUSO PAOLO",
         "49.0"
        ],
        [
         "210",
         "2025-01-09 00:00:00",
         "UNIGROUP S.P.A.",
         "BAR TORINO DI CARUSO PAOLO",
         "22.0"
        ],
        [
         "209",
         "2025-01-09 00:00:00",
         "UNIGROUP S.P.A.",
         "BAR TORINO DI CARUSO PAOLO",
         "158.0"
        ],
        [
         "218",
         "2025-01-09 00:00:00",
         "DUESSE CARTOLIBRERIA SRL",
         "BAR TORINO DI CARUSO PAOLO",
         "6.0"
        ],
        [
         "214",
         "2025-01-09 00:00:00",
         "ERGON S.P.A.",
         "BAR TORINO DI CARUSO PAOLO",
         "16.0"
        ],
        [
         "206",
         "2025-01-10 00:00:00",
         "LA DISTRIBUTRICE SRL",
         "BAR TORINO DI CARUSO PAOLO",
         "111.0"
        ],
        [
         "205",
         "2025-01-10 00:00:00",
         "FRIGO ARETUSA S.R.L.",
         "BAR TORINO DI CARUSO PAOLO",
         "160.0"
        ],
        [
         "215",
         "2025-01-11 00:00:00",
         "MARTINI ALIMENTARE SRL",
         "BAR TORINO DI CARUSO PAOLO",
         "48.0"
        ],
        [
         "211",
         "2025-01-12 00:00:00",
         "BRAGA ITAMAR",
         "BAR TORINO DI CARUSO PAOLO",
         "29.0"
        ],
        [
         "183",
         "2025-01-13 00:00:00",
         "ERREGI SRL",
         "BAR TORINO DI CARUSO PAOLO",
         "141.0"
        ],
        [
         "207",
         "2025-01-13 00:00:00",
         "MARTINI ALIMENTARE SRL",
         "BAR TORINO DI CARUSO PAOLO",
         "53.0"
        ],
        [
         "184",
         "2025-01-13 00:00:00",
         "ERREGI SRL",
         "BAR TORINO DI CARUSO PAOLO",
         "14.0"
        ],
        [
         "201",
         "2025-01-13 00:00:00",
         "FRIGO ARETUSA S.R.L.",
         "BAR TORINO DI CARUSO PAOLO",
         "83.0"
        ],
        [
         "196",
         "2025-01-13 00:00:00",
         "UNIGROUP S.P.A.",
         "BAR TORINO DI CARUSO PAOLO",
         "146.0"
        ],
        [
         "208",
         "2025-01-14 00:00:00",
         "MARTINI ALIMENTARE SRL",
         "BAR TORINO DI CARUSO PAOLO",
         "96.0"
        ],
        [
         "197",
         "2025-01-14 00:00:00",
         "ALICATA GROUP SRL",
         "BAR TORINO DI CARUSO PAOLO",
         "179.0"
        ],
        [
         "193",
         "2025-01-15 00:00:00",
         "JONICA GAS S.R.L. IN LIQUIDAZIONE",
         "BAR TORINO DI CARUSO PAOLO",
         "62.0"
        ],
        [
         "195",
         "2025-01-15 00:00:00",
         "FRIGO ARETUSA S.R.L.",
         "BAR TORINO DI CARUSO PAOLO",
         "71.0"
        ],
        [
         "203",
         "2025-01-15 00:00:00",
         "MARTINI ALIMENTARE SRL",
         "BAR TORINO DI CARUSO PAOLO",
         "41.0"
        ],
        [
         "198",
         "2025-01-16 00:00:00",
         "MARTINI ALIMENTARE SRL",
         "BAR TORINO DI CARUSO PAOLO",
         "84.0"
        ],
        [
         "192",
         "2025-01-16 00:00:00",
         "LA DISTRIBUTRICE SRL",
         "BAR TORINO DI CARUSO PAOLO",
         "182.0"
        ],
        [
         "200",
         "2025-01-16 00:00:00",
         "MARTINI ALIMENTARE SRL",
         "BAR TORINO DI CARUSO PAOLO",
         "201.0"
        ],
        [
         "194",
         "2025-01-16 00:00:00",
         "UNIGROUP S.P.A.",
         "BAR TORINO DI CARUSO PAOLO",
         "179.0"
        ],
        [
         "178",
         "2025-01-20 00:00:00",
         "UNIGROUP S.P.A.",
         "BAR TORINO DI CARUSO PAOLO",
         "124.0"
        ],
        [
         "191",
         "2025-01-21 00:00:00",
         "MARTINI ALIMENTARE SRL",
         "BAR TORINO DI CARUSO PAOLO",
         "90.0"
        ],
        [
         "186",
         "2025-01-21 00:00:00",
         "ALICATA GROUP SRL",
         "BAR TORINO DI CARUSO PAOLO",
         "324.0"
        ],
        [
         "179",
         "2025-01-21 00:00:00",
         "UNIGROUP S.P.A.",
         "BAR TORINO DI CARUSO PAOLO",
         "20.0"
        ],
        [
         "172",
         "2025-01-22 00:00:00",
         "LA DISTRIBUTRICE SRL",
         "BAR TORINO DI CARUSO PAOLO",
         "175.0"
        ],
        [
         "177",
         "2025-01-22 00:00:00",
         "FRIGO ARETUSA S.R.L.",
         "BAR TORINO DI CARUSO PAOLO",
         "66.0"
        ],
        [
         "173",
         "2025-01-23 00:00:00",
         "UNIGROUP S.P.A.",
         "BAR TORINO DI CARUSO PAOLO",
         "118.0"
        ],
        [
         "174",
         "2025-01-23 00:00:00",
         "UNIGROUP S.P.A.",
         "BAR TORINO DI CARUSO PAOLO",
         "65.0"
        ]
       ],
       "shape": {
        "columns": 4,
        "rows": 366
       }
      },
      "text/html": [
       "<div>\n",
       "<style scoped>\n",
       "    .dataframe tbody tr th:only-of-type {\n",
       "        vertical-align: middle;\n",
       "    }\n",
       "\n",
       "    .dataframe tbody tr th {\n",
       "        vertical-align: top;\n",
       "    }\n",
       "\n",
       "    .dataframe thead th {\n",
       "        text-align: right;\n",
       "    }\n",
       "</style>\n",
       "<table border=\"1\" class=\"dataframe\">\n",
       "  <thead>\n",
       "    <tr style=\"text-align: right;\">\n",
       "      <th></th>\n",
       "      <th>Data</th>\n",
       "      <th>Fornitore</th>\n",
       "      <th>Bar</th>\n",
       "      <th>ImportoTotaleAcquisti</th>\n",
       "    </tr>\n",
       "  </thead>\n",
       "  <tbody>\n",
       "    <tr>\n",
       "      <th>233</th>\n",
       "      <td>2024-12-28</td>\n",
       "      <td>FRIGO ARETUSA S.R.L.</td>\n",
       "      <td>BAR TORINO DI CARUSO PAOLO</td>\n",
       "      <td>80.0</td>\n",
       "    </tr>\n",
       "    <tr>\n",
       "      <th>226</th>\n",
       "      <td>2024-12-30</td>\n",
       "      <td>UNIGROUP S.P.A.</td>\n",
       "      <td>BAR TORINO DI CARUSO PAOLO</td>\n",
       "      <td>140.0</td>\n",
       "    </tr>\n",
       "    <tr>\n",
       "      <th>234</th>\n",
       "      <td>2024-12-31</td>\n",
       "      <td>KENYA CAFFE DI TROVATO DOMENICO &amp; C.SNC</td>\n",
       "      <td>BAR TORINO DI CARUSO PAOLO</td>\n",
       "      <td>198.0</td>\n",
       "    </tr>\n",
       "    <tr>\n",
       "      <th>230</th>\n",
       "      <td>2024-12-31</td>\n",
       "      <td>ALICATA GROUP SRL</td>\n",
       "      <td>BAR TORINO DI CARUSO PAOLO</td>\n",
       "      <td>85.0</td>\n",
       "    </tr>\n",
       "    <tr>\n",
       "      <th>228</th>\n",
       "      <td>2024-12-31</td>\n",
       "      <td>PARMALAT SPA</td>\n",
       "      <td>BAR TORINO DI CARUSO PAOLO</td>\n",
       "      <td>102.0</td>\n",
       "    </tr>\n",
       "    <tr>\n",
       "      <th>...</th>\n",
       "      <td>...</td>\n",
       "      <td>...</td>\n",
       "      <td>...</td>\n",
       "      <td>...</td>\n",
       "    </tr>\n",
       "    <tr>\n",
       "      <th>240</th>\n",
       "      <td>2025-06-11</td>\n",
       "      <td>FRIGO ARETUSA S.R.L.</td>\n",
       "      <td>BAR TORINO DI CARUSO PAOLO</td>\n",
       "      <td>87.0</td>\n",
       "    </tr>\n",
       "    <tr>\n",
       "      <th>247</th>\n",
       "      <td>2025-06-12</td>\n",
       "      <td>MARTINI ALIMENTARE SRL</td>\n",
       "      <td>BAR TORINO DI CARUSO PAOLO</td>\n",
       "      <td>101.0</td>\n",
       "    </tr>\n",
       "    <tr>\n",
       "      <th>239</th>\n",
       "      <td>2025-06-12</td>\n",
       "      <td>ERGON S.P.A.</td>\n",
       "      <td>BAR TORINO DI CARUSO PAOLO</td>\n",
       "      <td>154.0</td>\n",
       "    </tr>\n",
       "    <tr>\n",
       "      <th>241</th>\n",
       "      <td>2025-06-14</td>\n",
       "      <td>MARTINI ALIMENTARE SRL</td>\n",
       "      <td>BAR TORINO DI CARUSO PAOLO</td>\n",
       "      <td>70.0</td>\n",
       "    </tr>\n",
       "    <tr>\n",
       "      <th>237</th>\n",
       "      <td>2025-06-16</td>\n",
       "      <td>DUESSE CARTOLIBRERIA SRL</td>\n",
       "      <td>BAR TORINO DI CARUSO PAOLO</td>\n",
       "      <td>8.0</td>\n",
       "    </tr>\n",
       "  </tbody>\n",
       "</table>\n",
       "<p>366 rows × 4 columns</p>\n",
       "</div>"
      ],
      "text/plain": [
       "          Data                                Fornitore  \\\n",
       "233 2024-12-28                     FRIGO ARETUSA S.R.L.   \n",
       "226 2024-12-30                          UNIGROUP S.P.A.   \n",
       "234 2024-12-31  KENYA CAFFE DI TROVATO DOMENICO & C.SNC   \n",
       "230 2024-12-31                        ALICATA GROUP SRL   \n",
       "228 2024-12-31                             PARMALAT SPA   \n",
       "..         ...                                      ...   \n",
       "240 2025-06-11                     FRIGO ARETUSA S.R.L.   \n",
       "247 2025-06-12                   MARTINI ALIMENTARE SRL   \n",
       "239 2025-06-12                             ERGON S.P.A.   \n",
       "241 2025-06-14                   MARTINI ALIMENTARE SRL   \n",
       "237 2025-06-16                 DUESSE CARTOLIBRERIA SRL   \n",
       "\n",
       "                            Bar  ImportoTotaleAcquisti  \n",
       "233  BAR TORINO DI CARUSO PAOLO                   80.0  \n",
       "226  BAR TORINO DI CARUSO PAOLO                  140.0  \n",
       "234  BAR TORINO DI CARUSO PAOLO                  198.0  \n",
       "230  BAR TORINO DI CARUSO PAOLO                   85.0  \n",
       "228  BAR TORINO DI CARUSO PAOLO                  102.0  \n",
       "..                          ...                    ...  \n",
       "240  BAR TORINO DI CARUSO PAOLO                   87.0  \n",
       "247  BAR TORINO DI CARUSO PAOLO                  101.0  \n",
       "239  BAR TORINO DI CARUSO PAOLO                  154.0  \n",
       "241  BAR TORINO DI CARUSO PAOLO                   70.0  \n",
       "237  BAR TORINO DI CARUSO PAOLO                    8.0  \n",
       "\n",
       "[366 rows x 4 columns]"
      ]
     },
     "execution_count": 61,
     "metadata": {},
     "output_type": "execute_result"
    }
   ],
   "source": [
    "Ricevute"
   ]
  },
  {
   "cell_type": "code",
   "execution_count": 60,
   "id": "0c4af0b5",
   "metadata": {},
   "outputs": [],
   "source": [
    "Ricevute = Ricevute.sort_values('Data')"
   ]
  },
  {
   "cell_type": "code",
   "execution_count": 224,
   "id": "01359153",
   "metadata": {},
   "outputs": [
    {
     "data": {
      "application/vnd.microsoft.datawrangler.viewer.v0+json": {
       "columns": [
        {
         "name": "index",
         "rawType": "int64",
         "type": "integer"
        },
        {
         "name": "Data",
         "rawType": "datetime64[ns]",
         "type": "datetime"
        },
        {
         "name": "Fornitore",
         "rawType": "object",
         "type": "string"
        },
        {
         "name": "Bar",
         "rawType": "object",
         "type": "string"
        },
        {
         "name": "ImportoTotaleAcquisti",
         "rawType": "float64",
         "type": "float"
        }
       ],
       "ref": "ff361f44-d81d-43b5-b3ea-b9f61276d283",
       "rows": [
        [
         "233",
         "2024-12-28 00:00:00",
         "FRIGO ARETUSA S.R.L.",
         "BAR TORINO DI CARUSO PAOLO",
         "80.0"
        ],
        [
         "226",
         "2024-12-30 00:00:00",
         "UNIGROUP S.P.A.",
         "BAR TORINO DI CARUSO PAOLO",
         "140.0"
        ],
        [
         "230",
         "2024-12-31 00:00:00",
         "ALICATA GROUP SRL",
         "BAR TORINO DI CARUSO PAOLO",
         "85.0"
        ],
        [
         "228",
         "2024-12-31 00:00:00",
         "PARMALAT SPA",
         "BAR TORINO DI CARUSO PAOLO",
         "102.0"
        ],
        [
         "234",
         "2024-12-31 00:00:00",
         "KENYA CAFFE DI TROVATO DOMENICO & C.SNC",
         "BAR TORINO DI CARUSO PAOLO",
         "198.0"
        ],
        [
         "235",
         "2025-01-02 00:00:00",
         "MARTINI ALIMENTARE SRL",
         "BAR TORINO DI CARUSO PAOLO",
         "193.0"
        ],
        [
         "227",
         "2025-01-02 00:00:00",
         "R.M. DI RICCARDO MUNZONE",
         "BAR TORINO DI CARUSO PAOLO",
         "36.0"
        ],
        [
         "225",
         "2025-01-02 00:00:00",
         "FRIGO ARETUSA S.R.L.",
         "BAR TORINO DI CARUSO PAOLO",
         "46.0"
        ],
        [
         "224",
         "2025-01-02 00:00:00",
         "LA DISTRIBUTRICE SRL",
         "BAR TORINO DI CARUSO PAOLO",
         "150.0"
        ],
        [
         "223",
         "2025-01-02 00:00:00",
         "UNIGROUP S.P.A.",
         "BAR TORINO DI CARUSO PAOLO",
         "41.0"
        ],
        [
         "221",
         "2025-01-02 00:00:00",
         "UNIGROUP S.P.A.",
         "BAR TORINO DI CARUSO PAOLO",
         "120.0"
        ],
        [
         "231",
         "2025-01-03 00:00:00",
         "SEBASTIANA DI MAURO",
         "BAR TORINO DI CARUSO PAOLO",
         "70.0"
        ],
        [
         "229",
         "2025-01-04 00:00:00",
         "MARTINI ALIMENTARE SRL",
         "BAR TORINO DI CARUSO PAOLO",
         "94.0"
        ],
        [
         "219",
         "2025-01-07 00:00:00",
         "FORTUNATO PINCIO",
         "BAR TORINO DI CARUSO PAOLO",
         "680.0"
        ],
        [
         "212",
         "2025-01-07 00:00:00",
         "UNIGROUP S.P.A.",
         "BAR TORINO DI CARUSO PAOLO",
         "122.0"
        ],
        [
         "216",
         "2025-01-07 00:00:00",
         "ALICATA GROUP SRL",
         "BAR TORINO DI CARUSO PAOLO",
         "204.0"
        ],
        [
         "220",
         "2025-01-08 00:00:00",
         "MARTINI ALIMENTARE SRL",
         "BAR TORINO DI CARUSO PAOLO",
         "83.0"
        ],
        [
         "217",
         "2025-01-08 00:00:00",
         "LA DISTRIBUTRICE SRL",
         "BAR TORINO DI CARUSO PAOLO",
         "90.0"
        ],
        [
         "213",
         "2025-01-08 00:00:00",
         "FRIGO ARETUSA S.R.L.",
         "BAR TORINO DI CARUSO PAOLO",
         "49.0"
        ],
        [
         "218",
         "2025-01-09 00:00:00",
         "DUESSE CARTOLIBRERIA SRL",
         "BAR TORINO DI CARUSO PAOLO",
         "6.0"
        ],
        [
         "214",
         "2025-01-09 00:00:00",
         "ERGON S.P.A.",
         "BAR TORINO DI CARUSO PAOLO",
         "16.0"
        ],
        [
         "210",
         "2025-01-09 00:00:00",
         "UNIGROUP S.P.A.",
         "BAR TORINO DI CARUSO PAOLO",
         "22.0"
        ],
        [
         "209",
         "2025-01-09 00:00:00",
         "UNIGROUP S.P.A.",
         "BAR TORINO DI CARUSO PAOLO",
         "158.0"
        ],
        [
         "206",
         "2025-01-10 00:00:00",
         "LA DISTRIBUTRICE SRL",
         "BAR TORINO DI CARUSO PAOLO",
         "111.0"
        ],
        [
         "205",
         "2025-01-10 00:00:00",
         "FRIGO ARETUSA S.R.L.",
         "BAR TORINO DI CARUSO PAOLO",
         "160.0"
        ],
        [
         "215",
         "2025-01-11 00:00:00",
         "MARTINI ALIMENTARE SRL",
         "BAR TORINO DI CARUSO PAOLO",
         "48.0"
        ],
        [
         "211",
         "2025-01-12 00:00:00",
         "BRAGA ITAMAR",
         "BAR TORINO DI CARUSO PAOLO",
         "29.0"
        ],
        [
         "184",
         "2025-01-13 00:00:00",
         "ERREGI SRL",
         "BAR TORINO DI CARUSO PAOLO",
         "14.0"
        ],
        [
         "183",
         "2025-01-13 00:00:00",
         "ERREGI SRL",
         "BAR TORINO DI CARUSO PAOLO",
         "141.0"
        ],
        [
         "201",
         "2025-01-13 00:00:00",
         "FRIGO ARETUSA S.R.L.",
         "BAR TORINO DI CARUSO PAOLO",
         "83.0"
        ],
        [
         "196",
         "2025-01-13 00:00:00",
         "UNIGROUP S.P.A.",
         "BAR TORINO DI CARUSO PAOLO",
         "146.0"
        ],
        [
         "207",
         "2025-01-13 00:00:00",
         "MARTINI ALIMENTARE SRL",
         "BAR TORINO DI CARUSO PAOLO",
         "53.0"
        ],
        [
         "197",
         "2025-01-14 00:00:00",
         "ALICATA GROUP SRL",
         "BAR TORINO DI CARUSO PAOLO",
         "179.0"
        ],
        [
         "208",
         "2025-01-14 00:00:00",
         "MARTINI ALIMENTARE SRL",
         "BAR TORINO DI CARUSO PAOLO",
         "96.0"
        ],
        [
         "195",
         "2025-01-15 00:00:00",
         "FRIGO ARETUSA S.R.L.",
         "BAR TORINO DI CARUSO PAOLO",
         "71.0"
        ],
        [
         "193",
         "2025-01-15 00:00:00",
         "JONICA GAS S.R.L. IN LIQUIDAZIONE",
         "BAR TORINO DI CARUSO PAOLO",
         "62.0"
        ],
        [
         "203",
         "2025-01-15 00:00:00",
         "MARTINI ALIMENTARE SRL",
         "BAR TORINO DI CARUSO PAOLO",
         "41.0"
        ],
        [
         "200",
         "2025-01-16 00:00:00",
         "MARTINI ALIMENTARE SRL",
         "BAR TORINO DI CARUSO PAOLO",
         "201.0"
        ],
        [
         "198",
         "2025-01-16 00:00:00",
         "MARTINI ALIMENTARE SRL",
         "BAR TORINO DI CARUSO PAOLO",
         "84.0"
        ],
        [
         "194",
         "2025-01-16 00:00:00",
         "UNIGROUP S.P.A.",
         "BAR TORINO DI CARUSO PAOLO",
         "179.0"
        ],
        [
         "192",
         "2025-01-16 00:00:00",
         "LA DISTRIBUTRICE SRL",
         "BAR TORINO DI CARUSO PAOLO",
         "182.0"
        ],
        [
         "178",
         "2025-01-20 00:00:00",
         "UNIGROUP S.P.A.",
         "BAR TORINO DI CARUSO PAOLO",
         "124.0"
        ],
        [
         "191",
         "2025-01-21 00:00:00",
         "MARTINI ALIMENTARE SRL",
         "BAR TORINO DI CARUSO PAOLO",
         "90.0"
        ],
        [
         "186",
         "2025-01-21 00:00:00",
         "ALICATA GROUP SRL",
         "BAR TORINO DI CARUSO PAOLO",
         "324.0"
        ],
        [
         "179",
         "2025-01-21 00:00:00",
         "UNIGROUP S.P.A.",
         "BAR TORINO DI CARUSO PAOLO",
         "20.0"
        ],
        [
         "177",
         "2025-01-22 00:00:00",
         "FRIGO ARETUSA S.R.L.",
         "BAR TORINO DI CARUSO PAOLO",
         "66.0"
        ],
        [
         "172",
         "2025-01-22 00:00:00",
         "LA DISTRIBUTRICE SRL",
         "BAR TORINO DI CARUSO PAOLO",
         "175.0"
        ],
        [
         "173",
         "2025-01-23 00:00:00",
         "UNIGROUP S.P.A.",
         "BAR TORINO DI CARUSO PAOLO",
         "118.0"
        ],
        [
         "174",
         "2025-01-23 00:00:00",
         "UNIGROUP S.P.A.",
         "BAR TORINO DI CARUSO PAOLO",
         "65.0"
        ],
        [
         "185",
         "2025-01-23 00:00:00",
         "MARTINI ALIMENTARE SRL",
         "BAR TORINO DI CARUSO PAOLO",
         "95.0"
        ]
       ],
       "shape": {
        "columns": 4,
        "rows": 362
       }
      },
      "text/html": [
       "<div>\n",
       "<style scoped>\n",
       "    .dataframe tbody tr th:only-of-type {\n",
       "        vertical-align: middle;\n",
       "    }\n",
       "\n",
       "    .dataframe tbody tr th {\n",
       "        vertical-align: top;\n",
       "    }\n",
       "\n",
       "    .dataframe thead th {\n",
       "        text-align: right;\n",
       "    }\n",
       "</style>\n",
       "<table border=\"1\" class=\"dataframe\">\n",
       "  <thead>\n",
       "    <tr style=\"text-align: right;\">\n",
       "      <th></th>\n",
       "      <th>Data</th>\n",
       "      <th>Fornitore</th>\n",
       "      <th>Bar</th>\n",
       "      <th>ImportoTotaleAcquisti</th>\n",
       "    </tr>\n",
       "  </thead>\n",
       "  <tbody>\n",
       "    <tr>\n",
       "      <th>233</th>\n",
       "      <td>2024-12-28</td>\n",
       "      <td>FRIGO ARETUSA S.R.L.</td>\n",
       "      <td>BAR TORINO DI CARUSO PAOLO</td>\n",
       "      <td>80.0</td>\n",
       "    </tr>\n",
       "    <tr>\n",
       "      <th>226</th>\n",
       "      <td>2024-12-30</td>\n",
       "      <td>UNIGROUP S.P.A.</td>\n",
       "      <td>BAR TORINO DI CARUSO PAOLO</td>\n",
       "      <td>140.0</td>\n",
       "    </tr>\n",
       "    <tr>\n",
       "      <th>230</th>\n",
       "      <td>2024-12-31</td>\n",
       "      <td>ALICATA GROUP SRL</td>\n",
       "      <td>BAR TORINO DI CARUSO PAOLO</td>\n",
       "      <td>85.0</td>\n",
       "    </tr>\n",
       "    <tr>\n",
       "      <th>228</th>\n",
       "      <td>2024-12-31</td>\n",
       "      <td>PARMALAT SPA</td>\n",
       "      <td>BAR TORINO DI CARUSO PAOLO</td>\n",
       "      <td>102.0</td>\n",
       "    </tr>\n",
       "    <tr>\n",
       "      <th>234</th>\n",
       "      <td>2024-12-31</td>\n",
       "      <td>KENYA CAFFE DI TROVATO DOMENICO &amp; C.SNC</td>\n",
       "      <td>BAR TORINO DI CARUSO PAOLO</td>\n",
       "      <td>198.0</td>\n",
       "    </tr>\n",
       "    <tr>\n",
       "      <th>...</th>\n",
       "      <td>...</td>\n",
       "      <td>...</td>\n",
       "      <td>...</td>\n",
       "      <td>...</td>\n",
       "    </tr>\n",
       "    <tr>\n",
       "      <th>240</th>\n",
       "      <td>2025-06-11</td>\n",
       "      <td>FRIGO ARETUSA S.R.L.</td>\n",
       "      <td>BAR TORINO DI CARUSO PAOLO</td>\n",
       "      <td>87.0</td>\n",
       "    </tr>\n",
       "    <tr>\n",
       "      <th>239</th>\n",
       "      <td>2025-06-12</td>\n",
       "      <td>ERGON S.P.A.</td>\n",
       "      <td>BAR TORINO DI CARUSO PAOLO</td>\n",
       "      <td>154.0</td>\n",
       "    </tr>\n",
       "    <tr>\n",
       "      <th>247</th>\n",
       "      <td>2025-06-12</td>\n",
       "      <td>MARTINI ALIMENTARE SRL</td>\n",
       "      <td>BAR TORINO DI CARUSO PAOLO</td>\n",
       "      <td>101.0</td>\n",
       "    </tr>\n",
       "    <tr>\n",
       "      <th>241</th>\n",
       "      <td>2025-06-14</td>\n",
       "      <td>MARTINI ALIMENTARE SRL</td>\n",
       "      <td>BAR TORINO DI CARUSO PAOLO</td>\n",
       "      <td>70.0</td>\n",
       "    </tr>\n",
       "    <tr>\n",
       "      <th>237</th>\n",
       "      <td>2025-06-16</td>\n",
       "      <td>DUESSE CARTOLIBRERIA SRL</td>\n",
       "      <td>BAR TORINO DI CARUSO PAOLO</td>\n",
       "      <td>8.0</td>\n",
       "    </tr>\n",
       "  </tbody>\n",
       "</table>\n",
       "<p>362 rows × 4 columns</p>\n",
       "</div>"
      ],
      "text/plain": [
       "          Data                                Fornitore  \\\n",
       "233 2024-12-28                     FRIGO ARETUSA S.R.L.   \n",
       "226 2024-12-30                          UNIGROUP S.P.A.   \n",
       "230 2024-12-31                        ALICATA GROUP SRL   \n",
       "228 2024-12-31                             PARMALAT SPA   \n",
       "234 2024-12-31  KENYA CAFFE DI TROVATO DOMENICO & C.SNC   \n",
       "..         ...                                      ...   \n",
       "240 2025-06-11                     FRIGO ARETUSA S.R.L.   \n",
       "239 2025-06-12                             ERGON S.P.A.   \n",
       "247 2025-06-12                   MARTINI ALIMENTARE SRL   \n",
       "241 2025-06-14                   MARTINI ALIMENTARE SRL   \n",
       "237 2025-06-16                 DUESSE CARTOLIBRERIA SRL   \n",
       "\n",
       "                            Bar  ImportoTotaleAcquisti  \n",
       "233  BAR TORINO DI CARUSO PAOLO                   80.0  \n",
       "226  BAR TORINO DI CARUSO PAOLO                  140.0  \n",
       "230  BAR TORINO DI CARUSO PAOLO                   85.0  \n",
       "228  BAR TORINO DI CARUSO PAOLO                  102.0  \n",
       "234  BAR TORINO DI CARUSO PAOLO                  198.0  \n",
       "..                          ...                    ...  \n",
       "240  BAR TORINO DI CARUSO PAOLO                   87.0  \n",
       "239  BAR TORINO DI CARUSO PAOLO                  154.0  \n",
       "247  BAR TORINO DI CARUSO PAOLO                  101.0  \n",
       "241  BAR TORINO DI CARUSO PAOLO                   70.0  \n",
       "237  BAR TORINO DI CARUSO PAOLO                    8.0  \n",
       "\n",
       "[362 rows x 4 columns]"
      ]
     },
     "execution_count": 224,
     "metadata": {},
     "output_type": "execute_result"
    }
   ],
   "source": [
    "Ricevute"
   ]
  },
  {
   "cell_type": "code",
   "execution_count": 62,
   "id": "b91cfc01",
   "metadata": {},
   "outputs": [],
   "source": [
    "Ricevute = Ricevute[Ricevute['Data'].dt.year != 2024]"
   ]
  },
  {
   "cell_type": "code",
   "execution_count": 285,
   "id": "c2c72244",
   "metadata": {},
   "outputs": [],
   "source": [
    "Ricevute.to_csv('FattureRicevute.csv')"
   ]
  },
  {
   "cell_type": "code",
   "execution_count": 286,
   "id": "2f0038c9",
   "metadata": {},
   "outputs": [],
   "source": [
    "Merge = pd.merge(Emesse, Ricevute, on=['Data', 'Bar'], how='outer', suffixes=('_Emesse', '_Ricevute'))"
   ]
  },
  {
   "cell_type": "code",
   "execution_count": 65,
   "id": "9c8bbd51",
   "metadata": {},
   "outputs": [
    {
     "data": {
      "application/vnd.microsoft.datawrangler.viewer.v0+json": {
       "columns": [
        {
         "name": "index",
         "rawType": "int64",
         "type": "integer"
        },
        {
         "name": "Data",
         "rawType": "datetime64[ns]",
         "type": "datetime"
        },
        {
         "name": "Bar",
         "rawType": "object",
         "type": "string"
        },
        {
         "name": "Cliente",
         "rawType": "object",
         "type": "unknown"
        },
        {
         "name": "ImportoTotaleVendite",
         "rawType": "float64",
         "type": "float"
        },
        {
         "name": "Fornitore",
         "rawType": "object",
         "type": "unknown"
        },
        {
         "name": "ImportoTotaleAcquisti",
         "rawType": "float64",
         "type": "float"
        }
       ],
       "ref": "f3b9c6c2-6056-4670-85dc-93b50d16c723",
       "rows": [
        [
         "0",
         "2025-01-02 00:00:00",
         "BAR TORINO DI CARUSO PAOLO",
         null,
         null,
         "FRIGO ARETUSA S.R.L.",
         "46.0"
        ],
        [
         "1",
         "2025-01-02 00:00:00",
         "BAR TORINO DI CARUSO PAOLO",
         null,
         null,
         "UNIGROUP S.P.A.",
         "120.0"
        ],
        [
         "2",
         "2025-01-02 00:00:00",
         "BAR TORINO DI CARUSO PAOLO",
         null,
         null,
         "UNIGROUP S.P.A.",
         "41.0"
        ],
        [
         "3",
         "2025-01-02 00:00:00",
         "BAR TORINO DI CARUSO PAOLO",
         null,
         null,
         "LA DISTRIBUTRICE SRL",
         "150.0"
        ],
        [
         "4",
         "2025-01-02 00:00:00",
         "BAR TORINO DI CARUSO PAOLO",
         null,
         null,
         "R.M. DI RICCARDO MUNZONE",
         "36.0"
        ],
        [
         "5",
         "2025-01-02 00:00:00",
         "BAR TORINO DI CARUSO PAOLO",
         null,
         null,
         "MARTINI ALIMENTARE SRL",
         "193.0"
        ],
        [
         "6",
         "2025-01-03 00:00:00",
         "BAR TORINO DI CARUSO PAOLO",
         null,
         null,
         "SEBASTIANA DI MAURO",
         "70.0"
        ],
        [
         "7",
         "2025-01-03 00:00:00",
         "BAR TORINO DI CARUSO PAOLO",
         null,
         null,
         "CENTRO SERVIZI LOASI DI MARCO GALLO",
         "250.0"
        ],
        [
         "8",
         "2025-01-04 00:00:00",
         "BAR TORINO DI CARUSO PAOLO",
         null,
         null,
         "MARTINI ALIMENTARE SRL",
         "94.0"
        ],
        [
         "9",
         "2025-01-07 00:00:00",
         "BAR TORINO DI CARUSO PAOLO",
         null,
         null,
         "UNIGROUP S.P.A.",
         "122.0"
        ],
        [
         "10",
         "2025-01-07 00:00:00",
         "BAR TORINO DI CARUSO PAOLO",
         null,
         null,
         "ALICATA GROUP SRL",
         "204.0"
        ],
        [
         "11",
         "2025-01-07 00:00:00",
         "BAR TORINO DI CARUSO PAOLO",
         null,
         null,
         "FORTUNATO PINCIO",
         "680.0"
        ],
        [
         "12",
         "2025-01-07 00:00:00",
         "BARTORINODICARUSOPAOLO",
         "SEMEC SRL",
         "42.0",
         null,
         null
        ],
        [
         "13",
         "2025-01-07 00:00:00",
         "BARTORINODICARUSOPAOLO",
         "ASSO AGRICOLTURA SRLS SOC.AGRICOLA",
         "10.0",
         null,
         null
        ],
        [
         "14",
         "2025-01-08 00:00:00",
         "BAR TORINO DI CARUSO PAOLO",
         null,
         null,
         "LA DISTRIBUTRICE SRL",
         "90.0"
        ],
        [
         "15",
         "2025-01-08 00:00:00",
         "BAR TORINO DI CARUSO PAOLO",
         null,
         null,
         "MARTINI ALIMENTARE SRL",
         "83.0"
        ],
        [
         "16",
         "2025-01-08 00:00:00",
         "BAR TORINO DI CARUSO PAOLO",
         null,
         null,
         "FRIGO ARETUSA S.R.L.",
         "49.0"
        ],
        [
         "17",
         "2025-01-08 00:00:00",
         "BARTORINODICARUSOPAOLO",
         "SEMEC SRL",
         "44.0",
         null,
         null
        ],
        [
         "18",
         "2025-01-09 00:00:00",
         "BAR TORINO DI CARUSO PAOLO",
         null,
         null,
         "UNIGROUP S.P.A.",
         "22.0"
        ],
        [
         "19",
         "2025-01-09 00:00:00",
         "BAR TORINO DI CARUSO PAOLO",
         null,
         null,
         "UNIGROUP S.P.A.",
         "158.0"
        ],
        [
         "20",
         "2025-01-09 00:00:00",
         "BAR TORINO DI CARUSO PAOLO",
         null,
         null,
         "DUESSE CARTOLIBRERIA SRL",
         "6.0"
        ],
        [
         "21",
         "2025-01-09 00:00:00",
         "BAR TORINO DI CARUSO PAOLO",
         null,
         null,
         "ERGON S.P.A.",
         "16.0"
        ],
        [
         "22",
         "2025-01-09 00:00:00",
         "BARTORINODICARUSOPAOLO",
         "SEMEC SRL",
         "28.0",
         null,
         null
        ],
        [
         "23",
         "2025-01-10 00:00:00",
         "BAR TORINO DI CARUSO PAOLO",
         null,
         null,
         "LA DISTRIBUTRICE SRL",
         "111.0"
        ],
        [
         "24",
         "2025-01-10 00:00:00",
         "BAR TORINO DI CARUSO PAOLO",
         null,
         null,
         "FRIGO ARETUSA S.R.L.",
         "160.0"
        ],
        [
         "25",
         "2025-01-10 00:00:00",
         "BARTORINODICARUSOPAOLO",
         "SEMEC SRL",
         "44.0",
         null,
         null
        ],
        [
         "26",
         "2025-01-10 00:00:00",
         "BARTORINODICARUSOPAOLO",
         "CESTARO ROSSI  C.-S.P.A.",
         "72.0",
         null,
         null
        ],
        [
         "27",
         "2025-01-10 00:00:00",
         "BARTORINODICARUSOPAOLO",
         "AXIAL FANS INT SRL",
         "99.0",
         null,
         null
        ],
        [
         "28",
         "2025-01-11 00:00:00",
         "BAR TORINO DI CARUSO PAOLO",
         null,
         null,
         "MARTINI ALIMENTARE SRL",
         "48.0"
        ],
        [
         "29",
         "2025-01-12 00:00:00",
         "BAR TORINO DI CARUSO PAOLO",
         null,
         null,
         "BRAGA ITAMAR",
         "29.0"
        ],
        [
         "30",
         "2025-01-13 00:00:00",
         "BAR TORINO DI CARUSO PAOLO",
         null,
         null,
         "ERREGI SRL",
         "141.0"
        ],
        [
         "31",
         "2025-01-13 00:00:00",
         "BAR TORINO DI CARUSO PAOLO",
         null,
         null,
         "MARTINI ALIMENTARE SRL",
         "53.0"
        ],
        [
         "32",
         "2025-01-13 00:00:00",
         "BAR TORINO DI CARUSO PAOLO",
         null,
         null,
         "ERREGI SRL",
         "14.0"
        ],
        [
         "33",
         "2025-01-13 00:00:00",
         "BAR TORINO DI CARUSO PAOLO",
         null,
         null,
         "FRIGO ARETUSA S.R.L.",
         "83.0"
        ],
        [
         "34",
         "2025-01-13 00:00:00",
         "BAR TORINO DI CARUSO PAOLO",
         null,
         null,
         "UNIGROUP S.P.A.",
         "146.0"
        ],
        [
         "35",
         "2025-01-14 00:00:00",
         "BAR TORINO DI CARUSO PAOLO",
         null,
         null,
         "MARTINI ALIMENTARE SRL",
         "96.0"
        ],
        [
         "36",
         "2025-01-14 00:00:00",
         "BAR TORINO DI CARUSO PAOLO",
         null,
         null,
         "ALICATA GROUP SRL",
         "179.0"
        ],
        [
         "37",
         "2025-01-14 00:00:00",
         "BARTORINODICARUSOPAOLO",
         "SEMEC SRL",
         "84.0",
         null,
         null
        ],
        [
         "38",
         "2025-01-14 00:00:00",
         "BARTORINODICARUSOPAOLO",
         "EVAGRIN SRL",
         "8.0",
         null,
         null
        ],
        [
         "39",
         "2025-01-14 00:00:00",
         "BARTORINODICARUSOPAOLO",
         "RCN ITALIA DI ACCIARO M. LUCIA",
         "20.0",
         null,
         null
        ],
        [
         "40",
         "2025-01-15 00:00:00",
         "BAR TORINO DI CARUSO PAOLO",
         null,
         null,
         "JONICA GAS S.R.L. IN LIQUIDAZIONE",
         "62.0"
        ],
        [
         "41",
         "2025-01-15 00:00:00",
         "BAR TORINO DI CARUSO PAOLO",
         null,
         null,
         "FRIGO ARETUSA S.R.L.",
         "71.0"
        ],
        [
         "42",
         "2025-01-15 00:00:00",
         "BAR TORINO DI CARUSO PAOLO",
         null,
         null,
         "MARTINI ALIMENTARE SRL",
         "41.0"
        ],
        [
         "43",
         "2025-01-15 00:00:00",
         "BARTORINODICARUSOPAOLO",
         "ECOTEK AMBIENTE SRL",
         "60.0",
         null,
         null
        ],
        [
         "44",
         "2025-01-15 00:00:00",
         "BARTORINODICARUSOPAOLO",
         "SEMEC SRL",
         "68.0",
         null,
         null
        ],
        [
         "45",
         "2025-01-15 00:00:00",
         "BARTORINODICARUSOPAOLO",
         "IMPRESA EDILE",
         "18.0",
         null,
         null
        ],
        [
         "46",
         "2025-01-16 00:00:00",
         "BAR TORINO DI CARUSO PAOLO",
         null,
         null,
         "MARTINI ALIMENTARE SRL",
         "84.0"
        ],
        [
         "47",
         "2025-01-16 00:00:00",
         "BAR TORINO DI CARUSO PAOLO",
         null,
         null,
         "LA DISTRIBUTRICE SRL",
         "182.0"
        ],
        [
         "48",
         "2025-01-16 00:00:00",
         "BAR TORINO DI CARUSO PAOLO",
         null,
         null,
         "MARTINI ALIMENTARE SRL",
         "201.0"
        ],
        [
         "49",
         "2025-01-16 00:00:00",
         "BAR TORINO DI CARUSO PAOLO",
         null,
         null,
         "UNIGROUP S.P.A.",
         "179.0"
        ]
       ],
       "shape": {
        "columns": 6,
        "rows": 519
       }
      },
      "text/html": [
       "<div>\n",
       "<style scoped>\n",
       "    .dataframe tbody tr th:only-of-type {\n",
       "        vertical-align: middle;\n",
       "    }\n",
       "\n",
       "    .dataframe tbody tr th {\n",
       "        vertical-align: top;\n",
       "    }\n",
       "\n",
       "    .dataframe thead th {\n",
       "        text-align: right;\n",
       "    }\n",
       "</style>\n",
       "<table border=\"1\" class=\"dataframe\">\n",
       "  <thead>\n",
       "    <tr style=\"text-align: right;\">\n",
       "      <th></th>\n",
       "      <th>Data</th>\n",
       "      <th>Bar</th>\n",
       "      <th>Cliente</th>\n",
       "      <th>ImportoTotaleVendite</th>\n",
       "      <th>Fornitore</th>\n",
       "      <th>ImportoTotaleAcquisti</th>\n",
       "    </tr>\n",
       "  </thead>\n",
       "  <tbody>\n",
       "    <tr>\n",
       "      <th>0</th>\n",
       "      <td>2025-01-02</td>\n",
       "      <td>BAR TORINO DI CARUSO PAOLO</td>\n",
       "      <td>NaN</td>\n",
       "      <td>NaN</td>\n",
       "      <td>FRIGO ARETUSA S.R.L.</td>\n",
       "      <td>46.0</td>\n",
       "    </tr>\n",
       "    <tr>\n",
       "      <th>1</th>\n",
       "      <td>2025-01-02</td>\n",
       "      <td>BAR TORINO DI CARUSO PAOLO</td>\n",
       "      <td>NaN</td>\n",
       "      <td>NaN</td>\n",
       "      <td>UNIGROUP S.P.A.</td>\n",
       "      <td>120.0</td>\n",
       "    </tr>\n",
       "    <tr>\n",
       "      <th>2</th>\n",
       "      <td>2025-01-02</td>\n",
       "      <td>BAR TORINO DI CARUSO PAOLO</td>\n",
       "      <td>NaN</td>\n",
       "      <td>NaN</td>\n",
       "      <td>UNIGROUP S.P.A.</td>\n",
       "      <td>41.0</td>\n",
       "    </tr>\n",
       "    <tr>\n",
       "      <th>3</th>\n",
       "      <td>2025-01-02</td>\n",
       "      <td>BAR TORINO DI CARUSO PAOLO</td>\n",
       "      <td>NaN</td>\n",
       "      <td>NaN</td>\n",
       "      <td>LA DISTRIBUTRICE SRL</td>\n",
       "      <td>150.0</td>\n",
       "    </tr>\n",
       "    <tr>\n",
       "      <th>4</th>\n",
       "      <td>2025-01-02</td>\n",
       "      <td>BAR TORINO DI CARUSO PAOLO</td>\n",
       "      <td>NaN</td>\n",
       "      <td>NaN</td>\n",
       "      <td>R.M. DI RICCARDO MUNZONE</td>\n",
       "      <td>36.0</td>\n",
       "    </tr>\n",
       "    <tr>\n",
       "      <th>...</th>\n",
       "      <td>...</td>\n",
       "      <td>...</td>\n",
       "      <td>...</td>\n",
       "      <td>...</td>\n",
       "      <td>...</td>\n",
       "      <td>...</td>\n",
       "    </tr>\n",
       "    <tr>\n",
       "      <th>514</th>\n",
       "      <td>2025-06-12</td>\n",
       "      <td>BARTORINODICARUSOPAOLO</td>\n",
       "      <td>SIDERCEM</td>\n",
       "      <td>31.0</td>\n",
       "      <td>NaN</td>\n",
       "      <td>NaN</td>\n",
       "    </tr>\n",
       "    <tr>\n",
       "      <th>515</th>\n",
       "      <td>2025-06-14</td>\n",
       "      <td>BAR TORINO DI CARUSO PAOLO</td>\n",
       "      <td>NaN</td>\n",
       "      <td>NaN</td>\n",
       "      <td>MARTINI ALIMENTARE SRL</td>\n",
       "      <td>70.0</td>\n",
       "    </tr>\n",
       "    <tr>\n",
       "      <th>516</th>\n",
       "      <td>2025-06-14</td>\n",
       "      <td>BARTORINODICARUSOPAOLO</td>\n",
       "      <td>ENTUSA SRL</td>\n",
       "      <td>40.0</td>\n",
       "      <td>NaN</td>\n",
       "      <td>NaN</td>\n",
       "    </tr>\n",
       "    <tr>\n",
       "      <th>517</th>\n",
       "      <td>2025-06-16</td>\n",
       "      <td>BAR TORINO DI CARUSO PAOLO</td>\n",
       "      <td>NaN</td>\n",
       "      <td>NaN</td>\n",
       "      <td>DUESSE CARTOLIBRERIA SRL</td>\n",
       "      <td>8.0</td>\n",
       "    </tr>\n",
       "    <tr>\n",
       "      <th>518</th>\n",
       "      <td>2025-06-16</td>\n",
       "      <td>BARTORINODICARUSOPAOLO</td>\n",
       "      <td>SEMEC SRL</td>\n",
       "      <td>50.0</td>\n",
       "      <td>NaN</td>\n",
       "      <td>NaN</td>\n",
       "    </tr>\n",
       "  </tbody>\n",
       "</table>\n",
       "<p>519 rows × 6 columns</p>\n",
       "</div>"
      ],
      "text/plain": [
       "          Data                         Bar     Cliente  ImportoTotaleVendite  \\\n",
       "0   2025-01-02  BAR TORINO DI CARUSO PAOLO         NaN                   NaN   \n",
       "1   2025-01-02  BAR TORINO DI CARUSO PAOLO         NaN                   NaN   \n",
       "2   2025-01-02  BAR TORINO DI CARUSO PAOLO         NaN                   NaN   \n",
       "3   2025-01-02  BAR TORINO DI CARUSO PAOLO         NaN                   NaN   \n",
       "4   2025-01-02  BAR TORINO DI CARUSO PAOLO         NaN                   NaN   \n",
       "..         ...                         ...         ...                   ...   \n",
       "514 2025-06-12      BARTORINODICARUSOPAOLO    SIDERCEM                  31.0   \n",
       "515 2025-06-14  BAR TORINO DI CARUSO PAOLO         NaN                   NaN   \n",
       "516 2025-06-14      BARTORINODICARUSOPAOLO  ENTUSA SRL                  40.0   \n",
       "517 2025-06-16  BAR TORINO DI CARUSO PAOLO         NaN                   NaN   \n",
       "518 2025-06-16      BARTORINODICARUSOPAOLO   SEMEC SRL                  50.0   \n",
       "\n",
       "                    Fornitore  ImportoTotaleAcquisti  \n",
       "0        FRIGO ARETUSA S.R.L.                   46.0  \n",
       "1             UNIGROUP S.P.A.                  120.0  \n",
       "2             UNIGROUP S.P.A.                   41.0  \n",
       "3        LA DISTRIBUTRICE SRL                  150.0  \n",
       "4    R.M. DI RICCARDO MUNZONE                   36.0  \n",
       "..                        ...                    ...  \n",
       "514                       NaN                    NaN  \n",
       "515    MARTINI ALIMENTARE SRL                   70.0  \n",
       "516                       NaN                    NaN  \n",
       "517  DUESSE CARTOLIBRERIA SRL                    8.0  \n",
       "518                       NaN                    NaN  \n",
       "\n",
       "[519 rows x 6 columns]"
      ]
     },
     "execution_count": 65,
     "metadata": {},
     "output_type": "execute_result"
    }
   ],
   "source": [
    "Merge"
   ]
  },
  {
   "cell_type": "code",
   "execution_count": 408,
   "id": "1e2784ae",
   "metadata": {},
   "outputs": [],
   "source": [
    "Merged = pd.merge(Merge, Corrispettivi, on='Data', how='outer')"
   ]
  },
  {
   "cell_type": "code",
   "execution_count": 456,
   "id": "5aaffecb",
   "metadata": {},
   "outputs": [
    {
     "data": {
      "application/vnd.microsoft.datawrangler.viewer.v0+json": {
       "columns": [
        {
         "name": "index",
         "rawType": "int64",
         "type": "integer"
        },
        {
         "name": "Data",
         "rawType": "datetime64[ns]",
         "type": "datetime"
        },
        {
         "name": "Bar",
         "rawType": "object",
         "type": "unknown"
        },
        {
         "name": "Cliente",
         "rawType": "object",
         "type": "string"
        },
        {
         "name": "ImportoTotaleVendite",
         "rawType": "float64",
         "type": "float"
        },
        {
         "name": "Fornitore",
         "rawType": "object",
         "type": "string"
        },
        {
         "name": "ImportoTotaleAcquisti",
         "rawType": "float64",
         "type": "float"
        },
        {
         "name": "ImportoTotaleCorrispettivi",
         "rawType": "float64",
         "type": "float"
        }
       ],
       "ref": "9a668f08-847b-4ecf-b262-59ec46fb28f1",
       "rows": [
        [
         "0",
         "2025-01-02 00:00:00",
         "BAR TORINO DI CARUSO PAOLO",
         "-",
         "0.0",
         "FRIGO ARETUSA S.R.L.",
         "46.0",
         "162.5"
        ],
        [
         "1",
         "2025-01-02 00:00:00",
         "BAR TORINO DI CARUSO PAOLO",
         "-",
         "0.0",
         "UNIGROUP S.P.A.",
         "120.0",
         "0.0"
        ],
        [
         "2",
         "2025-01-02 00:00:00",
         "BAR TORINO DI CARUSO PAOLO",
         "-",
         "0.0",
         "UNIGROUP S.P.A.",
         "41.0",
         "0.0"
        ],
        [
         "3",
         "2025-01-02 00:00:00",
         "BAR TORINO DI CARUSO PAOLO",
         "-",
         "0.0",
         "LA DISTRIBUTRICE SRL",
         "150.0",
         "0.0"
        ],
        [
         "4",
         "2025-01-02 00:00:00",
         "BAR TORINO DI CARUSO PAOLO",
         "-",
         "0.0",
         "R.M. DI RICCARDO MUNZONE",
         "36.0",
         "0.0"
        ],
        [
         "5",
         "2025-01-02 00:00:00",
         "BAR TORINO DI CARUSO PAOLO",
         "-",
         "0.0",
         "MARTINI ALIMENTARE SRL",
         "193.0",
         "0.0"
        ],
        [
         "6",
         "2025-01-03 00:00:00",
         "BAR TORINO DI CARUSO PAOLO",
         "-",
         "0.0",
         "SEBASTIANA DI MAURO",
         "70.0",
         "318.5"
        ],
        [
         "7",
         "2025-01-03 00:00:00",
         "BAR TORINO DI CARUSO PAOLO",
         "-",
         "0.0",
         "CENTRO SERVIZI LOASI DI MARCO GALLO",
         "250.0",
         "0.0"
        ],
        [
         "8",
         "2025-01-04 00:00:00",
         "BAR TORINO DI CARUSO PAOLO",
         "-",
         "0.0",
         "MARTINI ALIMENTARE SRL",
         "94.0",
         "0.0"
        ],
        [
         "9",
         "2025-01-07 00:00:00",
         "BAR TORINO DI CARUSO PAOLO",
         "-",
         "0.0",
         "UNIGROUP S.P.A.",
         "122.0",
         "234.5"
        ],
        [
         "10",
         "2025-01-07 00:00:00",
         "BAR TORINO DI CARUSO PAOLO",
         "-",
         "0.0",
         "ALICATA GROUP SRL",
         "204.0",
         "0.0"
        ],
        [
         "11",
         "2025-01-07 00:00:00",
         "BAR TORINO DI CARUSO PAOLO",
         "-",
         "0.0",
         "FORTUNATO PINCIO",
         "680.0",
         "0.0"
        ],
        [
         "12",
         "2025-01-07 00:00:00",
         "BARTORINODICARUSOPAOLO",
         "SEMEC SRL",
         "42.0",
         "-",
         "0.0",
         "0.0"
        ],
        [
         "13",
         "2025-01-07 00:00:00",
         "BARTORINODICARUSOPAOLO",
         "ASSO AGRICOLTURA SRLS SOC.AGRICOLA",
         "10.0",
         "-",
         "0.0",
         "0.0"
        ],
        [
         "14",
         "2025-01-08 00:00:00",
         "BAR TORINO DI CARUSO PAOLO",
         "-",
         "0.0",
         "LA DISTRIBUTRICE SRL",
         "90.0",
         "247.5"
        ],
        [
         "15",
         "2025-01-08 00:00:00",
         "BAR TORINO DI CARUSO PAOLO",
         "-",
         "0.0",
         "MARTINI ALIMENTARE SRL",
         "83.0",
         "0.0"
        ],
        [
         "16",
         "2025-01-08 00:00:00",
         "BAR TORINO DI CARUSO PAOLO",
         "-",
         "0.0",
         "FRIGO ARETUSA S.R.L.",
         "49.0",
         "0.0"
        ],
        [
         "17",
         "2025-01-08 00:00:00",
         "BARTORINODICARUSOPAOLO",
         "SEMEC SRL",
         "44.0",
         "-",
         "0.0",
         "0.0"
        ],
        [
         "18",
         "2025-01-09 00:00:00",
         "BAR TORINO DI CARUSO PAOLO",
         "-",
         "0.0",
         "UNIGROUP S.P.A.",
         "22.0",
         "208.7"
        ],
        [
         "19",
         "2025-01-09 00:00:00",
         "BAR TORINO DI CARUSO PAOLO",
         "-",
         "0.0",
         "UNIGROUP S.P.A.",
         "158.0",
         "0.0"
        ],
        [
         "20",
         "2025-01-09 00:00:00",
         "BAR TORINO DI CARUSO PAOLO",
         "-",
         "0.0",
         "DUESSE CARTOLIBRERIA SRL",
         "6.0",
         "0.0"
        ],
        [
         "21",
         "2025-01-09 00:00:00",
         "BAR TORINO DI CARUSO PAOLO",
         "-",
         "0.0",
         "ERGON S.P.A.",
         "16.0",
         "0.0"
        ],
        [
         "22",
         "2025-01-09 00:00:00",
         "BARTORINODICARUSOPAOLO",
         "SEMEC SRL",
         "28.0",
         "-",
         "0.0",
         "0.0"
        ],
        [
         "23",
         "2025-01-10 00:00:00",
         "BAR TORINO DI CARUSO PAOLO",
         "-",
         "0.0",
         "LA DISTRIBUTRICE SRL",
         "111.0",
         "401.45"
        ],
        [
         "24",
         "2025-01-10 00:00:00",
         "BAR TORINO DI CARUSO PAOLO",
         "-",
         "0.0",
         "FRIGO ARETUSA S.R.L.",
         "160.0",
         "0.0"
        ],
        [
         "25",
         "2025-01-10 00:00:00",
         "BARTORINODICARUSOPAOLO",
         "SEMEC SRL",
         "44.0",
         "-",
         "0.0",
         "0.0"
        ],
        [
         "26",
         "2025-01-10 00:00:00",
         "BARTORINODICARUSOPAOLO",
         "CESTARO ROSSI  C.-S.P.A.",
         "72.0",
         "-",
         "0.0",
         "0.0"
        ],
        [
         "27",
         "2025-01-10 00:00:00",
         "BARTORINODICARUSOPAOLO",
         "AXIAL FANS INT SRL",
         "99.0",
         "-",
         "0.0",
         "0.0"
        ],
        [
         "28",
         "2025-01-11 00:00:00",
         "BAR TORINO DI CARUSO PAOLO",
         "-",
         "0.0",
         "MARTINI ALIMENTARE SRL",
         "48.0",
         "58.2"
        ],
        [
         "29",
         "2025-01-12 00:00:00",
         "BAR TORINO DI CARUSO PAOLO",
         "-",
         "0.0",
         "BRAGA ITAMAR",
         "29.0",
         "0.0"
        ],
        [
         "30",
         "2025-01-13 00:00:00",
         "BAR TORINO DI CARUSO PAOLO",
         "-",
         "0.0",
         "ERREGI SRL",
         "141.0",
         "286.5"
        ],
        [
         "31",
         "2025-01-13 00:00:00",
         "BAR TORINO DI CARUSO PAOLO",
         "-",
         "0.0",
         "MARTINI ALIMENTARE SRL",
         "53.0",
         "0.0"
        ],
        [
         "32",
         "2025-01-13 00:00:00",
         "BAR TORINO DI CARUSO PAOLO",
         "-",
         "0.0",
         "ERREGI SRL",
         "14.0",
         "0.0"
        ],
        [
         "33",
         "2025-01-13 00:00:00",
         "BAR TORINO DI CARUSO PAOLO",
         "-",
         "0.0",
         "FRIGO ARETUSA S.R.L.",
         "83.0",
         "0.0"
        ],
        [
         "34",
         "2025-01-13 00:00:00",
         "BAR TORINO DI CARUSO PAOLO",
         "-",
         "0.0",
         "UNIGROUP S.P.A.",
         "146.0",
         "0.0"
        ],
        [
         "35",
         "2025-01-14 00:00:00",
         "BAR TORINO DI CARUSO PAOLO",
         "-",
         "0.0",
         "MARTINI ALIMENTARE SRL",
         "96.0",
         "373.9"
        ],
        [
         "36",
         "2025-01-14 00:00:00",
         "BAR TORINO DI CARUSO PAOLO",
         "-",
         "0.0",
         "ALICATA GROUP SRL",
         "179.0",
         "0.0"
        ],
        [
         "37",
         "2025-01-14 00:00:00",
         "BARTORINODICARUSOPAOLO",
         "SEMEC SRL",
         "84.0",
         "-",
         "0.0",
         "0.0"
        ],
        [
         "38",
         "2025-01-14 00:00:00",
         "BARTORINODICARUSOPAOLO",
         "EVAGRIN SRL",
         "8.0",
         "-",
         "0.0",
         "0.0"
        ],
        [
         "39",
         "2025-01-14 00:00:00",
         "BARTORINODICARUSOPAOLO",
         "RCN ITALIA DI ACCIARO M. LUCIA",
         "20.0",
         "-",
         "0.0",
         "0.0"
        ],
        [
         "40",
         "2025-01-15 00:00:00",
         "BAR TORINO DI CARUSO PAOLO",
         "-",
         "0.0",
         "JONICA GAS S.R.L. IN LIQUIDAZIONE",
         "62.0",
         "403.0"
        ],
        [
         "41",
         "2025-01-15 00:00:00",
         "BAR TORINO DI CARUSO PAOLO",
         "-",
         "0.0",
         "FRIGO ARETUSA S.R.L.",
         "71.0",
         "0.0"
        ],
        [
         "42",
         "2025-01-15 00:00:00",
         "BAR TORINO DI CARUSO PAOLO",
         "-",
         "0.0",
         "MARTINI ALIMENTARE SRL",
         "41.0",
         "0.0"
        ],
        [
         "43",
         "2025-01-15 00:00:00",
         "BARTORINODICARUSOPAOLO",
         "ECOTEK AMBIENTE SRL",
         "60.0",
         "-",
         "0.0",
         "0.0"
        ],
        [
         "44",
         "2025-01-15 00:00:00",
         "BARTORINODICARUSOPAOLO",
         "SEMEC SRL",
         "68.0",
         "-",
         "0.0",
         "0.0"
        ],
        [
         "45",
         "2025-01-15 00:00:00",
         "BARTORINODICARUSOPAOLO",
         "IMPRESA EDILE",
         "18.0",
         "-",
         "0.0",
         "0.0"
        ],
        [
         "46",
         "2025-01-16 00:00:00",
         "BAR TORINO DI CARUSO PAOLO",
         "-",
         "0.0",
         "MARTINI ALIMENTARE SRL",
         "84.0",
         "279.0"
        ],
        [
         "47",
         "2025-01-16 00:00:00",
         "BAR TORINO DI CARUSO PAOLO",
         "-",
         "0.0",
         "LA DISTRIBUTRICE SRL",
         "182.0",
         "0.0"
        ],
        [
         "48",
         "2025-01-16 00:00:00",
         "BAR TORINO DI CARUSO PAOLO",
         "-",
         "0.0",
         "MARTINI ALIMENTARE SRL",
         "201.0",
         "0.0"
        ],
        [
         "49",
         "2025-01-16 00:00:00",
         "BAR TORINO DI CARUSO PAOLO",
         "-",
         "0.0",
         "UNIGROUP S.P.A.",
         "179.0",
         "0.0"
        ]
       ],
       "shape": {
        "columns": 7,
        "rows": 528
       }
      },
      "text/html": [
       "<div>\n",
       "<style scoped>\n",
       "    .dataframe tbody tr th:only-of-type {\n",
       "        vertical-align: middle;\n",
       "    }\n",
       "\n",
       "    .dataframe tbody tr th {\n",
       "        vertical-align: top;\n",
       "    }\n",
       "\n",
       "    .dataframe thead th {\n",
       "        text-align: right;\n",
       "    }\n",
       "</style>\n",
       "<table border=\"1\" class=\"dataframe\">\n",
       "  <thead>\n",
       "    <tr style=\"text-align: right;\">\n",
       "      <th></th>\n",
       "      <th>Data</th>\n",
       "      <th>Bar</th>\n",
       "      <th>Cliente</th>\n",
       "      <th>ImportoTotaleVendite</th>\n",
       "      <th>Fornitore</th>\n",
       "      <th>ImportoTotaleAcquisti</th>\n",
       "      <th>ImportoTotaleCorrispettivi</th>\n",
       "    </tr>\n",
       "  </thead>\n",
       "  <tbody>\n",
       "    <tr>\n",
       "      <th>0</th>\n",
       "      <td>2025-01-02</td>\n",
       "      <td>BAR TORINO DI CARUSO PAOLO</td>\n",
       "      <td>-</td>\n",
       "      <td>0.0</td>\n",
       "      <td>FRIGO ARETUSA S.R.L.</td>\n",
       "      <td>46.0</td>\n",
       "      <td>162.5</td>\n",
       "    </tr>\n",
       "    <tr>\n",
       "      <th>1</th>\n",
       "      <td>2025-01-02</td>\n",
       "      <td>BAR TORINO DI CARUSO PAOLO</td>\n",
       "      <td>-</td>\n",
       "      <td>0.0</td>\n",
       "      <td>UNIGROUP S.P.A.</td>\n",
       "      <td>120.0</td>\n",
       "      <td>0.0</td>\n",
       "    </tr>\n",
       "    <tr>\n",
       "      <th>2</th>\n",
       "      <td>2025-01-02</td>\n",
       "      <td>BAR TORINO DI CARUSO PAOLO</td>\n",
       "      <td>-</td>\n",
       "      <td>0.0</td>\n",
       "      <td>UNIGROUP S.P.A.</td>\n",
       "      <td>41.0</td>\n",
       "      <td>0.0</td>\n",
       "    </tr>\n",
       "    <tr>\n",
       "      <th>3</th>\n",
       "      <td>2025-01-02</td>\n",
       "      <td>BAR TORINO DI CARUSO PAOLO</td>\n",
       "      <td>-</td>\n",
       "      <td>0.0</td>\n",
       "      <td>LA DISTRIBUTRICE SRL</td>\n",
       "      <td>150.0</td>\n",
       "      <td>0.0</td>\n",
       "    </tr>\n",
       "    <tr>\n",
       "      <th>4</th>\n",
       "      <td>2025-01-02</td>\n",
       "      <td>BAR TORINO DI CARUSO PAOLO</td>\n",
       "      <td>-</td>\n",
       "      <td>0.0</td>\n",
       "      <td>R.M. DI RICCARDO MUNZONE</td>\n",
       "      <td>36.0</td>\n",
       "      <td>0.0</td>\n",
       "    </tr>\n",
       "    <tr>\n",
       "      <th>...</th>\n",
       "      <td>...</td>\n",
       "      <td>...</td>\n",
       "      <td>...</td>\n",
       "      <td>...</td>\n",
       "      <td>...</td>\n",
       "      <td>...</td>\n",
       "      <td>...</td>\n",
       "    </tr>\n",
       "    <tr>\n",
       "      <th>523</th>\n",
       "      <td>2025-06-13</td>\n",
       "      <td>NaN</td>\n",
       "      <td>-</td>\n",
       "      <td>0.0</td>\n",
       "      <td>-</td>\n",
       "      <td>0.0</td>\n",
       "      <td>322.7</td>\n",
       "    </tr>\n",
       "    <tr>\n",
       "      <th>524</th>\n",
       "      <td>2025-06-14</td>\n",
       "      <td>BAR TORINO DI CARUSO PAOLO</td>\n",
       "      <td>-</td>\n",
       "      <td>0.0</td>\n",
       "      <td>MARTINI ALIMENTARE SRL</td>\n",
       "      <td>70.0</td>\n",
       "      <td>204.9</td>\n",
       "    </tr>\n",
       "    <tr>\n",
       "      <th>525</th>\n",
       "      <td>2025-06-14</td>\n",
       "      <td>BARTORINODICARUSOPAOLO</td>\n",
       "      <td>ENTUSA SRL</td>\n",
       "      <td>40.0</td>\n",
       "      <td>-</td>\n",
       "      <td>0.0</td>\n",
       "      <td>0.0</td>\n",
       "    </tr>\n",
       "    <tr>\n",
       "      <th>526</th>\n",
       "      <td>2025-06-16</td>\n",
       "      <td>BAR TORINO DI CARUSO PAOLO</td>\n",
       "      <td>-</td>\n",
       "      <td>0.0</td>\n",
       "      <td>DUESSE CARTOLIBRERIA SRL</td>\n",
       "      <td>8.0</td>\n",
       "      <td>354.7</td>\n",
       "    </tr>\n",
       "    <tr>\n",
       "      <th>527</th>\n",
       "      <td>2025-06-16</td>\n",
       "      <td>BARTORINODICARUSOPAOLO</td>\n",
       "      <td>SEMEC SRL</td>\n",
       "      <td>50.0</td>\n",
       "      <td>-</td>\n",
       "      <td>0.0</td>\n",
       "      <td>0.0</td>\n",
       "    </tr>\n",
       "  </tbody>\n",
       "</table>\n",
       "<p>528 rows × 7 columns</p>\n",
       "</div>"
      ],
      "text/plain": [
       "          Data                         Bar     Cliente  ImportoTotaleVendite  \\\n",
       "0   2025-01-02  BAR TORINO DI CARUSO PAOLO           -                   0.0   \n",
       "1   2025-01-02  BAR TORINO DI CARUSO PAOLO           -                   0.0   \n",
       "2   2025-01-02  BAR TORINO DI CARUSO PAOLO           -                   0.0   \n",
       "3   2025-01-02  BAR TORINO DI CARUSO PAOLO           -                   0.0   \n",
       "4   2025-01-02  BAR TORINO DI CARUSO PAOLO           -                   0.0   \n",
       "..         ...                         ...         ...                   ...   \n",
       "523 2025-06-13                         NaN           -                   0.0   \n",
       "524 2025-06-14  BAR TORINO DI CARUSO PAOLO           -                   0.0   \n",
       "525 2025-06-14      BARTORINODICARUSOPAOLO  ENTUSA SRL                  40.0   \n",
       "526 2025-06-16  BAR TORINO DI CARUSO PAOLO           -                   0.0   \n",
       "527 2025-06-16      BARTORINODICARUSOPAOLO   SEMEC SRL                  50.0   \n",
       "\n",
       "                    Fornitore  ImportoTotaleAcquisti  \\\n",
       "0        FRIGO ARETUSA S.R.L.                   46.0   \n",
       "1             UNIGROUP S.P.A.                  120.0   \n",
       "2             UNIGROUP S.P.A.                   41.0   \n",
       "3        LA DISTRIBUTRICE SRL                  150.0   \n",
       "4    R.M. DI RICCARDO MUNZONE                   36.0   \n",
       "..                        ...                    ...   \n",
       "523                         -                    0.0   \n",
       "524    MARTINI ALIMENTARE SRL                   70.0   \n",
       "525                         -                    0.0   \n",
       "526  DUESSE CARTOLIBRERIA SRL                    8.0   \n",
       "527                         -                    0.0   \n",
       "\n",
       "     ImportoTotaleCorrispettivi  \n",
       "0                         162.5  \n",
       "1                           0.0  \n",
       "2                           0.0  \n",
       "3                           0.0  \n",
       "4                           0.0  \n",
       "..                          ...  \n",
       "523                       322.7  \n",
       "524                       204.9  \n",
       "525                         0.0  \n",
       "526                       354.7  \n",
       "527                         0.0  \n",
       "\n",
       "[528 rows x 7 columns]"
      ]
     },
     "execution_count": 456,
     "metadata": {},
     "output_type": "execute_result"
    }
   ],
   "source": [
    "Merged"
   ]
  },
  {
   "cell_type": "code",
   "execution_count": 436,
   "id": "045a764a",
   "metadata": {},
   "outputs": [],
   "source": [
    "mask = Merged['ImportoTotaleCorrispettivi'].duplicated(keep='first')\n",
    "mask.loc[465] = False\n",
    "Merged.loc[mask, 'ImportoTotaleCorrispettivi'] = np.nan"
   ]
  },
  {
   "cell_type": "code",
   "execution_count": 411,
   "id": "3655d515",
   "metadata": {},
   "outputs": [],
   "source": [
    "Merged.loc[[479,477,475,473],'ImportoTotaleAcquisti']= np.nan"
   ]
  },
  {
   "cell_type": "code",
   "execution_count": 410,
   "id": "e4d04d35",
   "metadata": {},
   "outputs": [],
   "source": [
    "Merged.loc[481, 'ImportoTotaleVendite'] = np.nan"
   ]
  },
  {
   "cell_type": "code",
   "execution_count": 448,
   "id": "9b48f6ea",
   "metadata": {},
   "outputs": [],
   "source": [
    "Merged = Merged.loc[:,['Data', 'Bar', 'Cliente', 'ImportoTotaleVendite', 'Fornitore',\n",
    "       'ImportoTotaleAcquisti', 'ImportoTotaleCorrispettivi']]"
   ]
  },
  {
   "cell_type": "code",
   "execution_count": 452,
   "id": "46ad9f0f",
   "metadata": {},
   "outputs": [],
   "source": [
    "Merged['ImportoTotaleVendite'] = Merged['ImportoTotaleVendite'].fillna(0)\n",
    "Merged['ImportoTotaleAcquisti'] = Merged['ImportoTotaleAcquisti'].fillna(0)\n",
    "Merged['ImportoTotaleCorrispettivi'] = Merged['ImportoTotaleCorrispettivi'].fillna(0)"
   ]
  },
  {
   "cell_type": "code",
   "execution_count": 455,
   "id": "261caaf1",
   "metadata": {},
   "outputs": [],
   "source": [
    "Merged['Cliente']=Merged['Cliente'].fillna('-')\n",
    "Merged['Fornitore']=Merged['Fornitore'].fillna('-')"
   ]
  },
  {
   "cell_type": "code",
   "execution_count": 457,
   "id": "6025b4f2",
   "metadata": {},
   "outputs": [],
   "source": [
    "Merged.to_csv('Merged.csv')"
   ]
  },
  {
   "cell_type": "code",
   "execution_count": null,
   "id": "939aba61",
   "metadata": {},
   "outputs": [],
   "source": []
  }
 ],
 "metadata": {
  "kernelspec": {
   "display_name": "base",
   "language": "python",
   "name": "python3"
  },
  "language_info": {
   "codemirror_mode": {
    "name": "ipython",
    "version": 3
   },
   "file_extension": ".py",
   "mimetype": "text/x-python",
   "name": "python",
   "nbconvert_exporter": "python",
   "pygments_lexer": "ipython3",
   "version": "3.12.7"
  }
 },
 "nbformat": 4,
 "nbformat_minor": 5
}
